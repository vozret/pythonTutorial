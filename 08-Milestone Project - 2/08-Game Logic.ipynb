{
 "cells": [
  {
   "cell_type": "code",
   "execution_count": 16,
   "metadata": {},
   "outputs": [],
   "source": [
    "# CARD CLASS\n",
    "# PROPERTIES: suit, rank, value\n",
    "# values suits, ranks -> global variables, accessible in the Card class, tuples (immutable)\n",
    "\n",
    "# DECK CLASS\n",
    "# Instantiate a new deck:\n",
    "#   create all 52 Card objects\n",
    "#   hold as a list of Card objects\n",
    "#  Shuffle a Deck through a method call\n",
    "#  Deal cards from the Deck object\n",
    "\n",
    "# PLAYER CLASS\n",
    "# remove cards from the hand\n",
    "# add single or multiple cards to the deck\n",
    "# will have self.all_cards list\n",
    "\n",
    "\n",
    "import random\n",
    "\n",
    "suits = ('Hearts', 'Diamonds', 'Spades', 'Clubs')\n",
    "\n",
    "ranks = ('Two', 'Three', 'Four', 'Five', 'Six', 'Seven', 'Eight', 'Nine', 'Ten', 'Jack', 'Queen', 'King', 'Ace')\n",
    "\n",
    "values = {'Two':2, 'Three':3, 'Four':4, 'Five':5, 'Six':6, 'Seven':7, 'Eight':8, 'Nine':9, 'Ten':10, 'Jack':11,'Queen':12, 'King':13, 'Ace':14}"
   ]
  },
  {
   "cell_type": "code",
   "execution_count": 17,
   "metadata": {},
   "outputs": [],
   "source": [
    "class Card():\n",
    "    def __init__(self,suit, rank):\n",
    "        self.suit = suit\n",
    "        self.rank = rank\n",
    "        self.value = values[rank]\n",
    "\n",
    "    def __str__(self):\n",
    "        return self.rank + ' of ' + self.suit"
   ]
  },
  {
   "cell_type": "code",
   "execution_count": 18,
   "metadata": {},
   "outputs": [],
   "source": [
    "class Deck():\n",
    "\n",
    "    def __init__(self):\n",
    "        \n",
    "        self.all_cards = []\n",
    "\n",
    "        for suit in suits:\n",
    "            for rank in ranks:\n",
    "                # Create the Card object\n",
    "                created_card = Card(suit, rank)\n",
    "\n",
    "                self.all_cards.append(created_card)\n",
    "    \n",
    "    # in-place method\n",
    "    def shuffle(self):\n",
    "        random.shuffle(self.all_cards)\n",
    "\n",
    "    def deal_one(self):\n",
    "        return self.all_cards.pop()"
   ]
  },
  {
   "cell_type": "code",
   "execution_count": 19,
   "metadata": {},
   "outputs": [],
   "source": [
    "# extend method-> takes a list, then emerges it in another list\n",
    "# append -> lists become nested!!!!\n",
    "\n",
    "class Player():\n",
    "    \n",
    "    def __init__(self, name):\n",
    "        self.name = name\n",
    "        self.all_cards = []\n",
    "\n",
    "    def remove_one(self):\n",
    "        # removing the card from the top\n",
    "        return self.all_cards.pop(0)\n",
    "\n",
    "    def add_cards(self, new_cards):\n",
    "        # new_cards: single or multiple cards\n",
    "        # list of multiple card objects:\n",
    "        if type(new_cards) == type([]):\n",
    "            self.all_cards.extend(new_cards)\n",
    "        # single card object:\n",
    "        else:\n",
    "            self.all_cards.append(new_cards)\n",
    "\n",
    "    def __str__(self):\n",
    "        return f'Player {self.name} has {len(self.all_cards)} cards.'"
   ]
  },
  {
   "cell_type": "code",
   "execution_count": 20,
   "metadata": {},
   "outputs": [],
   "source": [
    "# GAME SETUP\n",
    "player1 = Player(\"One\")\n",
    "player2 = Player(\"Two\")\n",
    "\n",
    "new_deck = Deck()\n",
    "new_deck.shuffle()\n",
    "\n",
    "for x in range(26):\n",
    "    # dealing one card at a time to each player\n",
    "    player1.add_cards(new_deck.deal_one())\n",
    "    player2.add_cards(new_deck.deal_one())"
   ]
  },
  {
   "cell_type": "code",
   "execution_count": 21,
   "metadata": {},
   "outputs": [
    {
     "output_type": "execute_result",
     "data": {
      "text/plain": "26"
     },
     "metadata": {},
     "execution_count": 21
    }
   ],
   "source": [
    "len(player1.all_cards)"
   ]
  },
  {
   "cell_type": "code",
   "execution_count": 22,
   "metadata": {
    "tags": []
   },
   "outputs": [
    {
     "output_type": "stream",
     "name": "stdout",
     "text": "King of Spades\n"
    }
   ],
   "source": [
    "print(player1.all_cards[0])"
   ]
  },
  {
   "cell_type": "code",
   "execution_count": 23,
   "metadata": {},
   "outputs": [],
   "source": [
    "game_on = True"
   ]
  },
  {
   "cell_type": "code",
   "execution_count": 24,
   "metadata": {
    "tags": []
   },
   "outputs": [
    {
     "output_type": "stream",
     "name": "stdout",
     "text": "Currently on round 1\nCurrently on round 2\nCurrently on round 3\nCurrently on round 4\nCurrently on round 5\nCurrently on round 6\nCurrently on round 7\nCurrently on round 8\nCurrently on round 9\nCurrently on round 10\nCurrently on round 11\nCurrently on round 12\nCurrently on round 13\nCurrently on round 14\nCurrently on round 15\nWAR!\nCurrently on round 16\nCurrently on round 17\nCurrently on round 18\nCurrently on round 19\nCurrently on round 20\nCurrently on round 21\nCurrently on round 22\nCurrently on round 23\nCurrently on round 24\nCurrently on round 25\nCurrently on round 26\nCurrently on round 27\nCurrently on round 28\nCurrently on round 29\nCurrently on round 30\nCurrently on round 31\nCurrently on round 32\nCurrently on round 33\nCurrently on round 34\nCurrently on round 35\nCurrently on round 36\nCurrently on round 37\nCurrently on round 38\nCurrently on round 39\nCurrently on round 40\nCurrently on round 41\nCurrently on round 42\nCurrently on round 43\nCurrently on round 44\nCurrently on round 45\nCurrently on round 46\nCurrently on round 47\nCurrently on round 48\nCurrently on round 49\nWAR!\nCurrently on round 50\nCurrently on round 51\nCurrently on round 52\nCurrently on round 53\nCurrently on round 54\nCurrently on round 55\nCurrently on round 56\nCurrently on round 57\nCurrently on round 58\nCurrently on round 59\nWAR!\nCurrently on round 60\nCurrently on round 61\nCurrently on round 62\nCurrently on round 63\nCurrently on round 64\nCurrently on round 65\nCurrently on round 66\nCurrently on round 67\nCurrently on round 68\nCurrently on round 69\nCurrently on round 70\nCurrently on round 71\nCurrently on round 72\nCurrently on round 73\nCurrently on round 74\nCurrently on round 75\nCurrently on round 76\nCurrently on round 77\nCurrently on round 78\nCurrently on round 79\nCurrently on round 80\nCurrently on round 81\nCurrently on round 82\nCurrently on round 83\nWAR!\nCurrently on round 84\nCurrently on round 85\nCurrently on round 86\nCurrently on round 87\nCurrently on round 88\nCurrently on round 89\nCurrently on round 90\nCurrently on round 91\nCurrently on round 92\nCurrently on round 93\nCurrently on round 94\nCurrently on round 95\nCurrently on round 96\nCurrently on round 97\nCurrently on round 98\nCurrently on round 99\nCurrently on round 100\nCurrently on round 101\nCurrently on round 102\nCurrently on round 103\nCurrently on round 104\nCurrently on round 105\nCurrently on round 106\nCurrently on round 107\nCurrently on round 108\nCurrently on round 109\nCurrently on round 110\nCurrently on round 111\nCurrently on round 112\nCurrently on round 113\nCurrently on round 114\nCurrently on round 115\nCurrently on round 116\nWAR!\nCurrently on round 117\nWAR!\nCurrently on round 118\nCurrently on round 119\nCurrently on round 120\nCurrently on round 121\nCurrently on round 122\nCurrently on round 123\nCurrently on round 124\nCurrently on round 125\nCurrently on round 126\nCurrently on round 127\nCurrently on round 128\nCurrently on round 129\nCurrently on round 130\nCurrently on round 131\nCurrently on round 132\nCurrently on round 133\nCurrently on round 134\nCurrently on round 135\nCurrently on round 136\nCurrently on round 137\nCurrently on round 138\nCurrently on round 139\nCurrently on round 140\nCurrently on round 141\nCurrently on round 142\nCurrently on round 143\nCurrently on round 144\nCurrently on round 145\nWAR!\nCurrently on round 146\nCurrently on round 147\nCurrently on round 148\nWAR!\nCurrently on round 149\nCurrently on round 150\nCurrently on round 151\nCurrently on round 152\nCurrently on round 153\nCurrently on round 154\nCurrently on round 155\nCurrently on round 156\nCurrently on round 157\nWAR!\nCurrently on round 158\nCurrently on round 159\nCurrently on round 160\nCurrently on round 161\nWAR!\nPlayer One unable to declare war!\nPlayer Two wins!\n"
    }
   ],
   "source": [
    "round_num = 0\n",
    "\n",
    "while game_on:\n",
    "    round_num += 1\n",
    "    print(f\"Currently on round {round_num}\")\n",
    "\n",
    "    if len(player1.all_cards) == 0:\n",
    "        print('Player One, out of cards! Player Two wins!')\n",
    "        game_on = False\n",
    "        break\n",
    "\n",
    "    if len(player2.all_cards) == 0:\n",
    "        print('Player Two, out of cards! Player One wins!')\n",
    "        game_on = False\n",
    "        break\n",
    "\n",
    "    # START A NEW ROUND\n",
    "    # current cards in play:\n",
    "    player1_cards = []\n",
    "    player1_cards.append(player1.remove_one())\n",
    "\n",
    "    player2_cards = []\n",
    "    player2_cards.append(player2.remove_one())\n",
    "\n",
    "    at_war = True\n",
    "\n",
    "    while at_war:\n",
    "        # this way, it will always draw the last card\n",
    "        if player1_cards[-1].value > player2_cards[-1].value:\n",
    "\n",
    "            player1.add_cards(player1_cards)\n",
    "            player1.add_cards(player2_cards)\n",
    "\n",
    "            at_war = False\n",
    "        \n",
    "        elif player1_cards[-1].value < player2_cards[-1].value:\n",
    "\n",
    "            player2.add_cards(player2_cards)\n",
    "            player2.add_cards(player1_cards)\n",
    "\n",
    "            at_war = False\n",
    "\n",
    "        else:\n",
    "            print(\"WAR!\")\n",
    "\n",
    "            if len(player1.all_cards) < 5:\n",
    "                print(\"Player One unable to declare war!\\nPlayer Two wins!\")\n",
    "                game_on = False\n",
    "                break\n",
    "            \n",
    "            elif len(player2.all_cards) < 5:\n",
    "                print(\"Player Two unable to declare war!\\nPlayer One wins!\")\n",
    "                game_on = False\n",
    "                break\n",
    "            \n",
    "            else:\n",
    "                for num in range(5):\n",
    "                    player1_cards.append(player1.remove_one())\n",
    "                    player2_cards.append(player2.remove_one())"
   ]
  },
  {
   "cell_type": "code",
   "execution_count": null,
   "metadata": {},
   "outputs": [],
   "source": []
  },
  {
   "cell_type": "code",
   "execution_count": null,
   "metadata": {},
   "outputs": [],
   "source": []
  }
 ],
 "metadata": {
  "language_info": {
   "codemirror_mode": {
    "name": "ipython",
    "version": 3
   },
   "file_extension": ".py",
   "mimetype": "text/x-python",
   "name": "python",
   "nbconvert_exporter": "python",
   "pygments_lexer": "ipython3",
   "version": 3
  },
  "orig_nbformat": 2,
  "kernelspec": {
   "name": "python_defaultSpec_1594377090897",
   "display_name": "Python 3.7.1 64-bit ('base': conda)"
  }
 },
 "nbformat": 4,
 "nbformat_minor": 2
}