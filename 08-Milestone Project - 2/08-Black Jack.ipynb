{
 "cells": [
  {
   "cell_type": "code",
   "execution_count": 1,
   "metadata": {},
   "outputs": [],
   "source": [
    "import random\n",
    "\n",
    "suits = ('Hearts', 'Diamonds', 'Spades', 'Clubs')\n",
    "ranks = ('Two', 'Three', 'Four', 'Five', 'Six', 'Seven', 'Eight', 'Nine', 'Ten', 'Jack', 'Queen', 'King', 'Ace')\n",
    "values = {'Two':2, 'Three':3, 'Four':4, 'Five':5, 'Six':6, 'Seven':7, 'Eight':8, 'Nine':9, 'Ten':10, 'Jack':10,\n",
    "         'Queen':10, 'King':10, 'Ace':11}\n",
    "\n",
    "playing = True"
   ]
  },
  {
   "cell_type": "code",
   "execution_count": 2,
   "metadata": {},
   "outputs": [],
   "source": [
    "class Card:\n",
    "\n",
    "    def __init__(self, suit, rank):\n",
    "        self.suit = suit\n",
    "        self.rank = rank\n",
    "        self.value = values[rank]\n",
    "\n",
    "    def __str__(self):\n",
    "        return f\"{self.rank} of {self.suit}\""
   ]
  },
  {
   "cell_type": "code",
   "execution_count": 3,
   "metadata": {
    "tags": []
   },
   "outputs": [
    {
     "output_type": "stream",
     "name": "stdout",
     "text": "Ace of Hearts\n11\n"
    }
   ],
   "source": [
    "test_card = Card(\"Hearts\", \"Ace\")\n",
    "print(test_card)\n",
    "print(test_card.value)"
   ]
  },
  {
   "cell_type": "code",
   "execution_count": 4,
   "metadata": {},
   "outputs": [],
   "source": [
    "class Deck:\n",
    "\n",
    "    def __init__(self):\n",
    "        self.deck = []\n",
    "        for suit in suits:\n",
    "            for rank in ranks:\n",
    "                card = Card(suit, rank)\n",
    "                self.deck.append(card)\n",
    "\n",
    "    def __str__(self):\n",
    "        for card in range(52):\n",
    "            print(f\"{self.deck[card]}\")\n",
    "        return f'END OF THE DECK!'\n",
    "\n",
    "    def shuffle(self):\n",
    "        random.shuffle(self.deck)\n",
    "\n",
    "    def deal(self):\n",
    "        return self.deck.pop(0)\n"
   ]
  },
  {
   "cell_type": "code",
   "execution_count": 5,
   "metadata": {
    "tags": []
   },
   "outputs": [
    {
     "output_type": "stream",
     "name": "stdout",
     "text": "\nPrint test_deck:\n\nTwo of Hearts\nThree of Hearts\nFour of Hearts\nFive of Hearts\nSix of Hearts\nSeven of Hearts\nEight of Hearts\nNine of Hearts\nTen of Hearts\nJack of Hearts\nQueen of Hearts\nKing of Hearts\nAce of Hearts\nTwo of Diamonds\nThree of Diamonds\nFour of Diamonds\nFive of Diamonds\nSix of Diamonds\nSeven of Diamonds\nEight of Diamonds\nNine of Diamonds\nTen of Diamonds\nJack of Diamonds\nQueen of Diamonds\nKing of Diamonds\nAce of Diamonds\nTwo of Spades\nThree of Spades\nFour of Spades\nFive of Spades\nSix of Spades\nSeven of Spades\nEight of Spades\nNine of Spades\nTen of Spades\nJack of Spades\nQueen of Spades\nKing of Spades\nAce of Spades\nTwo of Clubs\nThree of Clubs\nFour of Clubs\nFive of Clubs\nSix of Clubs\nSeven of Clubs\nEight of Clubs\nNine of Clubs\nTen of Clubs\nJack of Clubs\nQueen of Clubs\nKing of Clubs\nAce of Clubs\nEND OF THE DECK!\n\nPrint shuffled test_deck:\n\nNine of Hearts\nSix of Spades\nFour of Hearts\nTwo of Hearts\nTen of Clubs\nSix of Hearts\nAce of Hearts\nKing of Diamonds\nThree of Clubs\nTen of Hearts\nQueen of Hearts\nEight of Hearts\nJack of Spades\nEight of Spades\nThree of Hearts\nQueen of Diamonds\nFour of Clubs\nQueen of Spades\nKing of Clubs\nFour of Diamonds\nFive of Diamonds\nAce of Clubs\nEight of Clubs\nFour of Spades\nSeven of Spades\nTwo of Diamonds\nJack of Hearts\nAce of Diamonds\nEight of Diamonds\nNine of Spades\nNine of Clubs\nNine of Diamonds\nSeven of Hearts\nKing of Spades\nTen of Diamonds\nJack of Diamonds\nFive of Hearts\nTwo of Clubs\nTen of Spades\nSix of Diamonds\nSix of Clubs\nAce of Spades\nThree of Spades\nTwo of Spades\nThree of Diamonds\nFive of Clubs\nFive of Spades\nSeven of Clubs\nSeven of Diamonds\nKing of Hearts\nQueen of Clubs\nJack of Clubs\nEND OF THE DECK!\n"
    }
   ],
   "source": [
    "test_deck = Deck()\n",
    "\n",
    "print(\"\\nPrint test_deck:\\n\")\n",
    "print(test_deck)\n",
    "\n",
    "test_deck.shuffle()\n",
    "print(\"\\nPrint shuffled test_deck:\\n\")\n",
    "print(test_deck)"
   ]
  },
  {
   "cell_type": "code",
   "execution_count": 6,
   "metadata": {},
   "outputs": [],
   "source": [
    "class Hand:\n",
    "\n",
    "    def __init__(self):\n",
    "        self.cards = []\n",
    "        self.value = 0\n",
    "        # holds the indexes where the aces are\n",
    "        self.aces = []\n",
    "        self.has_ace = False\n",
    "\n",
    "    def add_card(self, card):\n",
    "        if card.rank == \"Ace\":\n",
    "            self.has_ace = True\n",
    "            self.cards.append(card)\n",
    "            # in aces list put index of aces\n",
    "            self.aces.append(len(self.cards)-1)\n",
    "            self.adjust_for_ace()\n",
    "        else:\n",
    "            self.cards.append(card)\n",
    "            self.value += card.value\n",
    "\n",
    "    def adjust_for_ace(self):\n",
    "        self.value = 0\n",
    "        if self.has_ace == False:\n",
    "            print(\"Cannot adjust the card!!!\")\n",
    "            return self.cards[0]\n",
    "\n",
    "        else:\n",
    "            if (len(self.aces) == 1):\n",
    "                index = self.aces[0]\n",
    "                print(\"Your ace: \")\n",
    "                print(self.cards[index])\n",
    "                print(f\"Value of your ace: {self.cards[index].value}\")\n",
    "                print(\"Please, choose a new value for the ace.\\n\")\n",
    "                print(\"Value can be in range [1, 11].\\n\")\n",
    "                self.cards[index].value = int(input(\"Provide an input: \"))\n",
    "                while (self.cards[index].value < 1 or self.cards[index].value > 11):\n",
    "                    print(\"Value can be in range [1, 11]!!!!\\n\")\n",
    "                    self.cards[index].value = int(input(\"Provide an input: \"))\n",
    "                print(f\"New value of your ace is: {self.cards[index].value}\")\n",
    "\n",
    "                for card in range(len(self.cards)):\n",
    "                    self.value += self.cards[card].value\n",
    "\n",
    "            else:\n",
    "                print(f\"You have more aces {len(self.aces)}.\\n\")\n",
    "                for ace in range(len(self.aces)):\n",
    "                    index = self.aces[ace]\n",
    "                    print(self.cards[index])\n",
    "                index = int(input(\"Choose one: \"))\n",
    "\n",
    "                while (index < 1 or index > len(self.aces)):\n",
    "                    print(\"Wrong input!\\nPlease, try again!\")\n",
    "                    index = int(input(\"Choose one: \"))\n",
    "\n",
    "                index-=1\n",
    "\n",
    "                # user doesn't know that list goes from 0, but thinks it goes from 1\n",
    "                index = self.aces[index]\n",
    "                self.cards[index].value = int(input(\"Provide a new value: \"))\n",
    "\n",
    "                while (self.cards[index].value < 1 or self.cards[index].value > 11):\n",
    "                    print(\"Value can be in range [1, 11]!!!!\\n\")\n",
    "                    self.cards[index].value = int(input(\"Provide an input: \"))\n",
    "                print(f\"New value of your ace is: {self.cards[index].value}\")\n",
    "                for card in range(len(self.cards)):\n",
    "                    self.value += self.cards[card].value\n",
    "\n",
    "\n",
    "\n",
    "    def __str__(self):\n",
    "        for card in self.cards:\n",
    "            print(card)\n",
    "        return f\"End of the hand!\"\n"
   ]
  },
  {
   "cell_type": "code",
   "execution_count": 7,
   "metadata": {
    "tags": []
   },
   "outputs": [
    {
     "output_type": "stream",
     "name": "stdout",
     "text": "End of the hand!\n"
    }
   ],
   "source": [
    "test_hand = Hand()\n",
    "print(test_hand)"
   ]
  },
  {
   "cell_type": "code",
   "execution_count": 8,
   "metadata": {
    "tags": []
   },
   "outputs": [
    {
     "output_type": "stream",
     "name": "stdout",
     "text": "Your ace: \nAce of Hearts\nValue of your ace: 11\nPlease, choose a new value for the ace.\n\nValue can be in range [1, 11].\n\nNew value of your ace is: 4\n"
    }
   ],
   "source": [
    "test_hand.add_card(test_card)"
   ]
  },
  {
   "cell_type": "code",
   "execution_count": 9,
   "metadata": {
    "tags": []
   },
   "outputs": [
    {
     "output_type": "stream",
     "name": "stdout",
     "text": "Ace of Hearts\nEnd of the hand!\n\n4\n"
    }
   ],
   "source": [
    "print(test_hand)\n",
    "print(f\"\\n{test_hand.value}\")"
   ]
  },
  {
   "cell_type": "code",
   "execution_count": 10,
   "metadata": {
    "tags": []
   },
   "outputs": [
    {
     "output_type": "stream",
     "name": "stdout",
     "text": "Four of Hearts\n"
    }
   ],
   "source": [
    "second_card = test_deck.deck[2]\n",
    "print(second_card)"
   ]
  },
  {
   "cell_type": "code",
   "execution_count": 11,
   "metadata": {
    "tags": []
   },
   "outputs": [
    {
     "output_type": "stream",
     "name": "stdout",
     "text": "Ace of Hearts\nFour of Hearts\nEnd of the hand!\n\n8\n"
    }
   ],
   "source": [
    "test_hand.add_card(second_card)\n",
    "print(test_hand)\n",
    "print(f\"\\n{test_hand.value}\")"
   ]
  },
  {
   "cell_type": "code",
   "execution_count": 12,
   "metadata": {
    "tags": []
   },
   "outputs": [
    {
     "output_type": "stream",
     "name": "stdout",
     "text": "8\n"
    }
   ],
   "source": [
    "print(test_hand.value)"
   ]
  },
  {
   "cell_type": "code",
   "execution_count": 13,
   "metadata": {
    "tags": []
   },
   "outputs": [
    {
     "output_type": "stream",
     "name": "stdout",
     "text": "Your ace: \nAce of Hearts\nValue of your ace: 4\nPlease, choose a new value for the ace.\n\nValue can be in range [1, 11].\n\nNew value of your ace is: 6\n"
    }
   ],
   "source": [
    "test_hand.adjust_for_ace()"
   ]
  },
  {
   "cell_type": "code",
   "execution_count": 14,
   "metadata": {
    "tags": []
   },
   "outputs": [
    {
     "output_type": "stream",
     "name": "stdout",
     "text": "10\n"
    }
   ],
   "source": [
    "print(test_hand.value)"
   ]
  },
  {
   "cell_type": "code",
   "execution_count": 16,
   "metadata": {
    "tags": []
   },
   "outputs": [
    {
     "output_type": "stream",
     "name": "stdout",
     "text": "Ace of Clubs\n11\n"
    }
   ],
   "source": [
    "third_card = Card(\"Clubs\", \"Ace\")\n",
    "print(third_card)\n",
    "print(third_card.value)"
   ]
  },
  {
   "cell_type": "code",
   "execution_count": 17,
   "metadata": {
    "tags": []
   },
   "outputs": [
    {
     "output_type": "stream",
     "name": "stdout",
     "text": "You have more aces 2.\n\nAce of Hearts\nAce of Clubs\nNew value of your ace is: 5\nAce of Hearts\nFour of Hearts\nAce of Clubs\nEnd of the hand!\n"
    }
   ],
   "source": [
    "test_hand.add_card(third_card)\n",
    "print(test_hand)"
   ]
  },
  {
   "cell_type": "code",
   "execution_count": 18,
   "metadata": {
    "tags": []
   },
   "outputs": [
    {
     "output_type": "stream",
     "name": "stdout",
     "text": "15\n"
    }
   ],
   "source": [
    "print(test_hand.value)"
   ]
  },
  {
   "cell_type": "code",
   "execution_count": 36,
   "metadata": {},
   "outputs": [],
   "source": [
    "class Chips:\n",
    "\n",
    "    def __init__(self):\n",
    "        self.total = 100\n",
    "        self.bet = 0\n",
    "\n",
    "    def take_bet(self):\n",
    "        print(f\"Place your bet.\\nYou cannot choose negative value and 0.\\n\")\n",
    "        self.bet = int(input(f\"You can go up to {self.total}:\"))\n",
    "        while (self.bet <= 0 or self.bet > self.total):\n",
    "            print(f\"You chose invalid value: {self.bet}$.\\n\")\n",
    "            self.bet = int(input(\"Please, try again: \"))\n",
    "        print(f\"Your bet is {self.bet}$\")\n",
    "\n",
    "    def win_bet(self):\n",
    "        print(\"You won the bet!\")\n",
    "        self.total += self.bet\n",
    "        print(f\"Your total amount is now {self.total}$.\\n\")\n",
    "        self.bet = 0\n",
    "\n",
    "    def lose_bet(self):\n",
    "        print(\"You lost the bet!\")\n",
    "        self.total -= self.bet\n",
    "        print(f\"Your total amount is now {self.total}$.\\n\")\n",
    "        self.bet = 0"
   ]
  },
  {
   "cell_type": "code",
   "execution_count": 37,
   "metadata": {},
   "outputs": [],
   "source": [
    "chips = Chips()"
   ]
  },
  {
   "cell_type": "code",
   "execution_count": 38,
   "metadata": {
    "tags": []
   },
   "outputs": [
    {
     "output_type": "stream",
     "name": "stdout",
     "text": "100\n"
    }
   ],
   "source": [
    "print(chips.total)"
   ]
  },
  {
   "cell_type": "code",
   "execution_count": 39,
   "metadata": {
    "tags": []
   },
   "outputs": [
    {
     "output_type": "stream",
     "name": "stdout",
     "text": "0\n"
    }
   ],
   "source": [
    "print(chips.bet)"
   ]
  },
  {
   "cell_type": "code",
   "execution_count": 40,
   "metadata": {
    "tags": []
   },
   "outputs": [
    {
     "output_type": "stream",
     "name": "stdout",
     "text": "Place your bet.\nYou cannot choose negative value and 0.\n\nYour bet is 100$\n"
    }
   ],
   "source": [
    "chips.take_bet()"
   ]
  },
  {
   "cell_type": "code",
   "execution_count": 41,
   "metadata": {
    "tags": []
   },
   "outputs": [
    {
     "output_type": "stream",
     "name": "stdout",
     "text": "You won the bet!\nYour total amount is now 200$.\n\n"
    }
   ],
   "source": [
    "chips.win_bet()"
   ]
  },
  {
   "cell_type": "code",
   "execution_count": 42,
   "metadata": {
    "tags": []
   },
   "outputs": [
    {
     "output_type": "stream",
     "name": "stdout",
     "text": "You lost the bet!\nYour total amount is now 200$.\n\n"
    }
   ],
   "source": [
    "chips.lose_bet()"
   ]
  },
  {
   "cell_type": "code",
   "execution_count": 43,
   "metadata": {
    "tags": []
   },
   "outputs": [
    {
     "output_type": "stream",
     "name": "stdout",
     "text": "0\n"
    }
   ],
   "source": [
    "print(chips.bet)"
   ]
  },
  {
   "cell_type": "code",
   "execution_count": null,
   "metadata": {},
   "outputs": [],
   "source": []
  }
 ],
 "metadata": {
  "language_info": {
   "codemirror_mode": {
    "name": "ipython",
    "version": 3
   },
   "file_extension": ".py",
   "mimetype": "text/x-python",
   "name": "python",
   "nbconvert_exporter": "python",
   "pygments_lexer": "ipython3",
   "version": 3
  },
  "orig_nbformat": 2,
  "kernelspec": {
   "name": "python_defaultSpec_1594727159092",
   "display_name": "Python 3.7.1 64-bit ('base': conda)"
  }
 },
 "nbformat": 4,
 "nbformat_minor": 2
}