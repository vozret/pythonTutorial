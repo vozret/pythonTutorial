{
 "cells": [
  {
   "cell_type": "code",
   "execution_count": 17,
   "metadata": {},
   "outputs": [],
   "source": [
    "import random\n",
    "\n",
    "suits = ('Hearts', 'Diamonds', 'Spades', 'Clubs')\n",
    "ranks = ('Two', 'Three', 'Four', 'Five', 'Six', 'Seven', 'Eight', 'Nine', 'Ten', 'Jack', 'Queen', 'King', 'Ace')\n",
    "values = {'Two':2, 'Three':3, 'Four':4, 'Five':5, 'Six':6, 'Seven':7, 'Eight':8, 'Nine':9, 'Ten':10, 'Jack':10,\n",
    "         'Queen':10, 'King':10, 'Ace':11}\n",
    "\n",
    "playing = True"
   ]
  },
  {
   "cell_type": "code",
   "execution_count": 18,
   "metadata": {},
   "outputs": [],
   "source": [
    "class Card:\n",
    "\n",
    "    def __init__(self, suit, rank):\n",
    "        self.suit = suit\n",
    "        self.rank = rank\n",
    "        self.value = values[rank]\n",
    "\n",
    "    def __str__(self):\n",
    "        return f\"{self.rank} of {self.suit}\""
   ]
  },
  {
   "cell_type": "code",
   "execution_count": 19,
   "metadata": {
    "tags": []
   },
   "outputs": [
    {
     "output_type": "stream",
     "name": "stdout",
     "text": "Two of Hearts\n2\n"
    }
   ],
   "source": [
    "test_card = Card(\"Hearts\", \"Two\")\n",
    "print(test_card)\n",
    "print(test_card.value)"
   ]
  },
  {
   "cell_type": "code",
   "execution_count": 22,
   "metadata": {},
   "outputs": [],
   "source": [
    "class Deck:\n",
    "\n",
    "    def __init__(self):\n",
    "        self.deck = []\n",
    "        for suit in suits:\n",
    "            for rank in ranks:\n",
    "                card = Card(suit, rank)\n",
    "                self.deck.append(card)\n",
    "\n",
    "    def __str__(self):\n",
    "        for card in range(52):\n",
    "            print(f\"{self.deck[card]}\")\n",
    "        return f'END OF THE DECK!'\n",
    "\n",
    "    def shuffle(self):\n",
    "        random.shuffle(self.deck)\n",
    "\n",
    "    def deal(self):\n",
    "        return self.deck.pop(0)\n"
   ]
  },
  {
   "cell_type": "code",
   "execution_count": 23,
   "metadata": {
    "tags": []
   },
   "outputs": [
    {
     "output_type": "stream",
     "name": "stdout",
     "text": "\nPrint test_deck:\n\nTwo of Hearts\nThree of Hearts\nFour of Hearts\nFive of Hearts\nSix of Hearts\nSeven of Hearts\nEight of Hearts\nNine of Hearts\nTen of Hearts\nJack of Hearts\nQueen of Hearts\nKing of Hearts\nAce of Hearts\nTwo of Diamonds\nThree of Diamonds\nFour of Diamonds\nFive of Diamonds\nSix of Diamonds\nSeven of Diamonds\nEight of Diamonds\nNine of Diamonds\nTen of Diamonds\nJack of Diamonds\nQueen of Diamonds\nKing of Diamonds\nAce of Diamonds\nTwo of Spades\nThree of Spades\nFour of Spades\nFive of Spades\nSix of Spades\nSeven of Spades\nEight of Spades\nNine of Spades\nTen of Spades\nJack of Spades\nQueen of Spades\nKing of Spades\nAce of Spades\nTwo of Clubs\nThree of Clubs\nFour of Clubs\nFive of Clubs\nSix of Clubs\nSeven of Clubs\nEight of Clubs\nNine of Clubs\nTen of Clubs\nJack of Clubs\nQueen of Clubs\nKing of Clubs\nAce of Clubs\nEND OF THE DECK!\n\nPrint shuffled test_deck:\n\nNine of Spades\nKing of Diamonds\nSix of Diamonds\nFive of Hearts\nFour of Diamonds\nAce of Clubs\nTen of Spades\nTwo of Hearts\nKing of Clubs\nSeven of Diamonds\nThree of Diamonds\nThree of Hearts\nJack of Spades\nJack of Hearts\nNine of Clubs\nTen of Clubs\nTen of Diamonds\nFour of Hearts\nQueen of Spades\nFour of Spades\nJack of Clubs\nEight of Diamonds\nNine of Diamonds\nFive of Diamonds\nAce of Hearts\nSix of Clubs\nSix of Hearts\nEight of Hearts\nEight of Clubs\nSeven of Hearts\nSeven of Clubs\nFive of Spades\nTwo of Spades\nFour of Clubs\nNine of Hearts\nTwo of Diamonds\nQueen of Hearts\nSix of Spades\nSeven of Spades\nThree of Clubs\nQueen of Diamonds\nAce of Diamonds\nKing of Hearts\nKing of Spades\nTwo of Clubs\nAce of Spades\nTen of Hearts\nEight of Spades\nFive of Clubs\nJack of Diamonds\nQueen of Clubs\nThree of Spades\nEND OF THE DECK!\n"
    }
   ],
   "source": [
    "test_deck = Deck()\n",
    "\n",
    "print(\"\\nPrint test_deck:\\n\")\n",
    "print(test_deck)\n",
    "\n",
    "test_deck.shuffle()\n",
    "print(\"\\nPrint shuffled test_deck:\\n\")\n",
    "print(test_deck)"
   ]
  },
  {
   "cell_type": "code",
   "execution_count": 24,
   "metadata": {},
   "outputs": [],
   "source": [
    "class Hand:\n",
    "\n",
    "    def __init__(self):\n",
    "        self.cards = []\n",
    "        self.value = 0\n",
    "        # holds the indexes where the aces are\n",
    "        self.aces = []\n",
    "\n",
    "    def add_card(self, card):\n",
    "        if card.rank == \"Ace\":\n",
    "            self.aces.append(self.cards[-1])\n",
    "            self.cards.append(card)\n",
    "            self.value += card.value\n",
    "            if self.value > 21:\n",
    "                print(\"Busted!!!!\")\n",
    "            else:\n",
    "                pass\n",
    "        else:\n",
    "            self.cards.append(card)\n",
    "            self.value += card.value\n",
    "            if self.value > 21:\n",
    "                print(\"Busted!!!!\")\n",
    "            else:\n",
    "                pass\n",
    "\n",
    "    def adjust_for_ace(self, card):\n",
    "        pass\n",
    "\n",
    "    def __str__(self):\n",
    "        for card in self.cards:\n",
    "            print(card)\n",
    "        return f\"End of the hand!\"\n"
   ]
  },
  {
   "cell_type": "code",
   "execution_count": 26,
   "metadata": {
    "tags": []
   },
   "outputs": [
    {
     "output_type": "stream",
     "name": "stdout",
     "text": "End of the hand!\n"
    }
   ],
   "source": [
    "test_hand = Hand()\n",
    "print(test_hand)"
   ]
  },
  {
   "cell_type": "code",
   "execution_count": 27,
   "metadata": {},
   "outputs": [],
   "source": [
    "test_hand.add_card(test_card)"
   ]
  },
  {
   "cell_type": "code",
   "execution_count": 28,
   "metadata": {
    "tags": []
   },
   "outputs": [
    {
     "output_type": "stream",
     "name": "stdout",
     "text": "Two of Hearts\nEnd of the hand!\n"
    }
   ],
   "source": [
    "print(test_hand)"
   ]
  },
  {
   "cell_type": "code",
   "execution_count": 30,
   "metadata": {
    "tags": []
   },
   "outputs": [
    {
     "output_type": "stream",
     "name": "stdout",
     "text": "Six of Diamonds\n"
    }
   ],
   "source": [
    "second_card = test_deck.deck[2]\n",
    "print(second_card)"
   ]
  },
  {
   "cell_type": "code",
   "execution_count": 31,
   "metadata": {
    "tags": []
   },
   "outputs": [
    {
     "output_type": "stream",
     "name": "stdout",
     "text": "Two of Hearts\nSix of Diamonds\nEnd of the hand!\n"
    }
   ],
   "source": [
    "test_hand.add_card(second_card)\n",
    "print(test_hand)"
   ]
  },
  {
   "cell_type": "code",
   "execution_count": null,
   "metadata": {},
   "outputs": [],
   "source": []
  }
 ],
 "metadata": {
  "language_info": {
   "codemirror_mode": {
    "name": "ipython",
    "version": 3
   },
   "file_extension": ".py",
   "mimetype": "text/x-python",
   "name": "python",
   "nbconvert_exporter": "python",
   "pygments_lexer": "ipython3",
   "version": 3
  },
  "orig_nbformat": 2,
  "kernelspec": {
   "name": "python_defaultSpec_1594650052948",
   "display_name": "Python 3.7.1 64-bit ('base': conda)"
  }
 },
 "nbformat": 4,
 "nbformat_minor": 2
}