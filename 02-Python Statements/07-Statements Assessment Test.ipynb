{
 "cells": [
  {
   "cell_type": "markdown",
   "metadata": {
    "collapsed": true
   },
   "source": [
    "# Statements Assessment Test\n",
    "Let's test your knowledge!"
   ]
  },
  {
   "cell_type": "markdown",
   "metadata": {},
   "source": [
    "_____\n",
    "**Use <code>for</code>, .split(), and <code>if</code> to create a Statement that will print out words that start with 's':**"
   ]
  },
  {
   "cell_type": "code",
   "execution_count": 17,
   "metadata": {},
   "outputs": [],
   "source": [
    "st = 'Print only the words that start with s in this sentence'"
   ]
  },
  {
   "cell_type": "code",
   "execution_count": 18,
   "metadata": {},
   "outputs": [
    {
     "name": "stdout",
     "output_type": "stream",
     "text": "start\ns\nsentence\n"
    }
   ],
   "source": [
    "#Code here\n",
    "firstLetter = 0\n",
    "\n",
    "for word in st.split():\n",
    "    if (word[0] == 's'):\n",
    "        print(word)"
   ]
  },
  {
   "cell_type": "markdown",
   "metadata": {},
   "source": [
    "______\n",
    "**Use range() to print all the even numbers from 0 to 10.**"
   ]
  },
  {
   "cell_type": "code",
   "execution_count": 10,
   "metadata": {},
   "outputs": [
    {
     "name": "stdout",
     "output_type": "stream",
     "text": "0\n2\n4\n6\n8\n10\n"
    }
   ],
   "source": [
    "#Code Here\n",
    "\n",
    "for num in range(0,11):\n",
    "    if(num%2==0):\n",
    "        print(num)"
   ]
  },
  {
   "cell_type": "markdown",
   "metadata": {},
   "source": [
    "___\n",
    "**Use a List Comprehension to create a list of all numbers between 1 and 50 that are divisible by 3.**"
   ]
  },
  {
   "cell_type": "code",
   "execution_count": 11,
   "metadata": {},
   "outputs": [
    {
     "name": "stdout",
     "output_type": "stream",
     "text": "[3, 6, 9, 12, 15, 18, 21, 24, 27, 30, 33, 36, 39, 42, 45, 48]\n"
    }
   ],
   "source": [
    "#Code in this cell\n",
    "myList = [num for num in range(1, 51) if num%3==0]\n",
    "print(myList)"
   ]
  },
  {
   "cell_type": "markdown",
   "metadata": {},
   "source": [
    "_____\n",
    "**Go through the string below and if the length of a word is even print \"even!\"**"
   ]
  },
  {
   "cell_type": "code",
   "execution_count": 22,
   "metadata": {},
   "outputs": [],
   "source": [
    "st = 'Print every word in this sentence that has an even number of letters'"
   ]
  },
  {
   "cell_type": "code",
   "execution_count": 23,
   "metadata": {},
   "outputs": [
    {
     "name": "stdout",
     "output_type": "stream",
     "text": "EVEN!\nword: word\n\n\nEVEN!\nword: in\n\n\nEVEN!\nword: this\n\n\nEVEN!\nword: sentence\n\n\nEVEN!\nword: that\n\n\nEVEN!\nword: an\n\n\nEVEN!\nword: even\n\n\nEVEN!\nword: number\n\n\nEVEN!\nword: of\n\n\n"
    }
   ],
   "source": [
    "#Code in this cell\n",
    "myString = st.split()\n",
    "\n",
    "for word in myString:\n",
    "    if len(word)%2 == 0:\n",
    "        print('EVEN!')\n",
    "        print(f'word: {word}')\n",
    "        print('\\n')"
   ]
  },
  {
   "cell_type": "markdown",
   "metadata": {},
   "source": [
    "____\n",
    "**Write a program that prints the integers from 1 to 100. But for multiples of three print \"Fizz\" instead of the number, and for the multiples of five print \"Buzz\". For numbers which are multiples of both three and five print \"FizzBuzz\".**"
   ]
  },
  {
   "cell_type": "code",
   "execution_count": 25,
   "metadata": {},
   "outputs": [
    {
     "name": "stdout",
     "output_type": "stream",
     "text": "1\n2\nFIZZ\n4\nBUZZ\nFIZZ\n7\n8\nFIZZ\nBUZZ\n11\nFIZZ\n13\n14\nFIZZBUZZ\n16\n17\nFIZZ\n19\nBUZZ\nFIZZ\n22\n23\nFIZZ\nBUZZ\n26\nFIZZ\n28\n29\nFIZZBUZZ\n31\n32\nFIZZ\n34\nBUZZ\nFIZZ\n37\n38\nFIZZ\nBUZZ\n41\nFIZZ\n43\n44\nFIZZBUZZ\n46\n47\nFIZZ\n49\nBUZZ\nFIZZ\n52\n53\nFIZZ\nBUZZ\n56\nFIZZ\n58\n59\nFIZZBUZZ\n61\n62\nFIZZ\n64\nBUZZ\nFIZZ\n67\n68\nFIZZ\nBUZZ\n71\nFIZZ\n73\n74\nFIZZBUZZ\n76\n77\nFIZZ\n79\nBUZZ\nFIZZ\n82\n83\nFIZZ\nBUZZ\n86\nFIZZ\n88\n89\nFIZZBUZZ\n91\n92\nFIZZ\n94\nBUZZ\nFIZZ\n97\n98\nFIZZ\nBUZZ\n"
    }
   ],
   "source": [
    "#Code in this cell\n",
    "\n",
    "for num in range(1, 101):\n",
    "    if (num % 3 == 0):\n",
    "        if (num % 5 == 0):\n",
    "            print('FIZZBUZZ')\n",
    "        else:\n",
    "            print('FIZZ')\n",
    "    elif (num % 5 == 0):\n",
    "        print('BUZZ')\n",
    "    else:\n",
    "        print(num)"
   ]
  },
  {
   "cell_type": "markdown",
   "metadata": {},
   "source": [
    "____\n",
    "**Use List Comprehension to create a list of the first letters of every word in the string below:**"
   ]
  },
  {
   "cell_type": "code",
   "execution_count": 19,
   "metadata": {},
   "outputs": [],
   "source": [
    "st = 'Create a list of the first letters of every word in this string'"
   ]
  },
  {
   "cell_type": "code",
   "execution_count": 21,
   "metadata": {},
   "outputs": [
    {
     "data": {
      "text/plain": "['C', 'a', 'l', 'o', 't', 'f', 'l', 'o', 'e', 'w', 'i', 't', 's']"
     },
     "execution_count": 21,
     "metadata": {},
     "output_type": "execute_result"
    }
   ],
   "source": [
    "#Code in this cell\n",
    "myList2 = [word[0] for word in st.split()]\n",
    "\n",
    "myList2"
   ]
  },
  {
   "cell_type": "markdown",
   "metadata": {},
   "source": [
    "### Great Job!"
   ]
  }
 ],
 "metadata": {
  "kernelspec": {
   "display_name": "Python 3",
   "language": "python",
   "name": "python3"
  },
  "language_info": {
   "codemirror_mode": {
    "name": "ipython",
    "version": 3
   },
   "file_extension": ".py",
   "mimetype": "text/x-python",
   "name": "python",
   "nbconvert_exporter": "python",
   "pygments_lexer": "ipython3",
   "version": "3.7.1-final"
  }
 },
 "nbformat": 4,
 "nbformat_minor": 1
}