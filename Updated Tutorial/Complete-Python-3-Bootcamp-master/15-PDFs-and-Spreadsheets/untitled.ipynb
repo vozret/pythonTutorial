{
 "metadata": {
  "language_info": {
   "codemirror_mode": {
    "name": "ipython",
    "version": 3
   },
   "file_extension": ".py",
   "mimetype": "text/x-python",
   "name": "python",
   "nbconvert_exporter": "python",
   "pygments_lexer": "ipython3",
   "version": "3.8.3-final"
  },
  "orig_nbformat": 2,
  "kernelspec": {
   "name": "python3",
   "display_name": "Python 3",
   "language": "python"
  }
 },
 "nbformat": 4,
 "nbformat_minor": 2,
 "cells": [
  {
   "cell_type": "code",
   "execution_count": 1,
   "metadata": {},
   "outputs": [
    {
     "output_type": "execute_result",
     "data": {
      "text/plain": [
       "'/Users/veronika/Documents/Tutorials/python/Complete-Python-3-Bootcamp-master/Updated Tutorial/Complete-Python-3-Bootcamp-master/15-PDFs-and-Spreadsheets'"
      ]
     },
     "metadata": {},
     "execution_count": 1
    }
   ],
   "source": [
    "pwd"
   ]
  },
  {
   "cell_type": "code",
   "execution_count": 2,
   "metadata": {},
   "outputs": [],
   "source": [
    "import csv"
   ]
  },
  {
   "cell_type": "code",
   "execution_count": 6,
   "metadata": {
    "tags": [
     "outputPrepend"
    ]
   },
   "outputs": [
    {
     "output_type": "stream",
     "name": "stdout",
     "text": [
      "], ['792', 'Cart', 'Escot', 'cescotlz@deviantart.com', 'Male', '90.112.220.226', 'Jarinu'], ['793', 'Emerson', 'Southgate', 'esouthgatem0@si.edu', 'Male', '222.161.148.46', 'Perbaungan'], ['794', 'Gino', 'Delepine', 'gdelepinem1@parallels.com', 'Male', '53.24.113.23', 'Rizári'], ['795', 'Perrine', 'Beranek', 'pberanekm2@vk.com', 'Female', '50.227.71.150', 'Yiánnouli'], ['796', 'Alfonso', 'Jados', 'ajadosm3@mozilla.org', 'Male', '90.161.249.121', 'Merritt'], ['797', 'Hali', 'Dragonette', 'hdragonettem4@slideshare.net', 'Female', '37.234.6.140', 'Thị Trấn Cao Phong'], ['798', 'Bebe', 'Mellhuish', 'bmellhuishm5@psu.edu', 'Female', '158.100.207.244', 'Matagami'], ['799', 'Constantia', 'Tomaskunas', 'ctomaskunasm6@friendfeed.com', 'Female', '181.178.161.190', 'Elias Fausto'], ['800', 'Ashley', 'Wollard', 'awollardm7@sciencedirect.com', 'Female', '41.71.196.161', 'Carreira'], ['801', 'Aime', 'Bruckman', 'abruckmanm8@naver.com', 'Female', '163.55.76.124', 'Baqiao'], ['802', 'Temp', 'McMearty', 'tmcmeartym9@lycos.com', 'Male', '129.128.17.101', 'Porsgrunn'], ['803', 'Belita', 'Kynge', 'bkyngema@nih.gov', 'Female', '229.198.160.116', 'Batiano'], ['804', 'Irma', 'Gillford', 'igillfordmb@fotki.com', 'Female', '188.3.135.88', 'Yangxi'], ['805', 'Mariejeanne', 'Mound', 'mmoundmc@soup.io', 'Female', '116.154.104.117', 'Tissa'], ['806', 'Shannah', 'Daudray', 'sdaudraymd@cyberchimps.com', 'Female', '219.175.89.132', 'Tagdanua'], ['807', 'Wolfy', 'Degli Antoni', 'wdegliantonime@unc.edu', 'Male', '216.94.147.51', 'Diourbel'], ['808', 'Kev', 'Bagniuk', 'kbagniukmf@xrea.com', 'Male', '25.239.125.7', 'Itaqui'], ['809', 'Tobi', 'Doyland', 'tdoylandmg@friendfeed.com', 'Female', '61.110.75.68', 'Limeil-Brévannes'], ['810', 'Daniela', 'Crosskell', 'dcrosskellmh@taobao.com', 'Female', '54.162.5.201', 'Punkaharju'], ['811', 'Hayden', 'Quade', 'hquademi@ucoz.com', 'Male', '251.117.159.22', 'Heishan'], ['812', 'Jodee', 'Kitteman', 'jkittemanmj@smugmug.com', 'Female', '62.246.68.102', 'Maslovare'], ['813', 'Corina', 'Lockart', 'clockartmk@yale.edu', 'Female', '108.130.175.118', 'Hongtang'], ['814', 'Delcina', 'MacAnelley', 'dmacanelleyml@nasa.gov', 'Female', '74.150.111.239', 'Chumpi'], ['815', 'Yuma', 'Tattershall', 'ytattershallmm@spiegel.de', 'Male', '115.219.51.8', 'Paris 17'], ['816', 'Jonathon', 'Ipplett', 'jipplettmn@spotify.com', 'Male', '241.8.118.20', 'Privlaka'], ['817', 'Aura', 'MacMychem', 'amacmychemmo@newsvine.com', 'Female', '101.109.194.210', 'Osias'], ['818', 'Pierre', 'Wortman', 'pwortmanmp@theguardian.com', 'Male', '227.237.236.201', 'Město'], ['819', 'Lowe', 'Scini', 'lscinimq@newsvine.com', 'Male', '200.13.153.137', 'Langchi'], ['820', 'Giustina', 'Huckabe', 'ghuckabemr@angelfire.com', 'Female', '34.86.8.191', 'Uherský Ostroh'], ['821', 'Nannie', 'Harrismith', 'nharrismithms@naver.com', 'Female', '8.50.169.30', 'Bayside'], ['822', 'Denny', 'Bowry', 'dbowrymt@mozilla.com', 'Male', '247.206.123.29', 'Krajanjugosari'], ['823', 'Carney', 'Maunders', 'cmaundersmu@tripod.com', 'Male', '177.87.58.168', 'Segong'], ['824', 'Fonsie', 'de Marco', 'fdemarcomv@moonfruit.com', 'Male', '209.3.117.173', 'Sariwŏn'], ['825', 'Zelig', 'Sparrowhawk', 'zsparrowhawkmw@vimeo.com', 'Male', '108.125.27.193', 'Kolochava'], ['826', 'Irvine', 'Mill', 'imillmx@yahoo.co.jp', 'Male', '194.198.63.176', 'Huangni'], ['827', 'Gracie', 'Dorsett', 'gdorsettmy@unesco.org', 'Female', '227.246.209.86', 'Castanhal'], ['828', 'Pen', 'Lundy', 'plundymz@yandex.ru', 'Male', '97.98.168.26', 'Richky'], ['829', 'Arni', 'Ducarel', 'aducareln0@yolasite.com', 'Male', '202.231.146.117', 'Tatarsk'], ['830', 'Carrie', 'Goding', 'cgodingn1@businessweek.com', 'Female', '248.231.113.207', 'Banjarejo'], ['831', 'Sonya', 'Clifft', 'sclifftn2@businesswire.com', 'Female', '139.46.233.62', 'Saynshand'], ['832', 'Chilton', 'Josland', 'cjoslandn3@skyrock.com', 'Male', '14.117.107.33', 'Prokhladnyy'], ['833', 'Melly', 'Furphy', 'mfurphyn4@irs.gov', 'Female', '213.13.119.195', 'Sinfra'], ['834', 'Nial', 'Garcia', 'ngarcian5@indiegogo.com', 'Male', '88.1.195.231', 'Mauhao'], ['835', 'Nerta', 'Patrick', 'npatrickn6@deliciousdays.com', 'Female', '10.180.177.120', 'Lom Kao'], ['836', 'Kissee', 'Busby', 'kbusbyn7@fastcompany.com', 'Female', '59.201.190.0', 'Malhiao'], ['837', 'Ellene', 'Rosenstein', 'erosensteinn8@geocities.com', 'Female', '134.211.107.212', 'Baumata'], ['838', 'Jessamine', 'St. Paul', 'jstpauln9@blogspot.com', 'Female', '62.149.106.75', 'Manadas'], ['839', 'Constantino', 'Truin', 'ctruinna@homestead.com', 'Male', '155.91.86.224', 'San Javier'], ['840', 'Anitra', 'Kopf', 'akopfnb@prlog.org', 'Female', '6.15.186.20', 'San Agustin'], ['841', 'Sigismund', 'Barnish', 'sbarnishnc@twitter.com', 'Male', '170.148.96.127', 'Izingolweni'], ['842', 'Giustina', 'Dumblton', 'gdumbltonnd@opensource.org', 'Female', '213.95.197.156', 'Honglong'], ['843', 'Amye', 'Siely', 'asielyne@imdb.com', 'Female', '184.41.70.19', 'Tvøroyri'], ['844', 'Chaim', 'Miche', 'cmichenf@amazon.co.jp', 'Male', '194.178.94.159', 'Shicha'], ['845', 'Chev', 'Polson', 'cpolsonng@shop-pro.jp', 'Male', '240.72.39.247', 'Wojaszówka'], ['846', 'Sherwin', 'Marriage', 'smarriagenh@devhub.com', 'Male', '193.127.164.248', 'Weishan'], ['847', 'Babara', 'Konke', 'bkonkeni@slate.com', 'Female', '9.101.60.54', 'Thành Phố Lạng Sơn'], ['848', 'Ethelind', 'Gloster', 'eglosternj@webmd.com', 'Female', '248.208.128.128', 'Staromyshastovskaya'], ['849', 'Betteann', 'Tsarovic', 'btsarovicnk@cnbc.com', 'Female', '102.184.254.222', 'Pukou'], ['850', 'Montague', 'Devoy', 'mdevoynl@cloudflare.com', 'Male', '252.207.148.230', 'Topolná'], ['851', 'Sibelle', 'Godfray', 'sgodfraynm@google.com.au', 'Female', '178.39.99.237', 'Hato Mayor del Rey'], ['852', 'Flinn', 'Daspar', 'fdasparnn@photobucket.com', 'Male', '92.27.245.127', 'Camiling'], ['853', 'Dalis', 'Caves', 'dcavesno@businessweek.com', 'Male', '94.250.241.87', 'Umm as Summāq'], ['854', 'Christin', 'Worters', 'cwortersnp@lulu.com', 'Female', '241.196.206.241', 'Erping'], ['855', 'Gayel', 'Goodluck', 'ggoodlucknq@epa.gov', 'Female', '1.22.117.81', 'Boulder'], ['856', 'Lilli', 'Skinner', 'lskinnernr@cnet.com', 'Female', '244.134.85.29', 'Zhongfang'], ['857', 'Norrie', 'Emmanuele', 'nemmanuelens@drupal.org', 'Male', '31.115.252.67', 'Shucheng Chengguanzhen'], ['858', 'Stanislaw', 'McClenan', 'smcclenannt@theguardian.com', 'Male', '32.61.125.245', 'Poshnje'], ['859', 'Leilah', 'St. Leger', 'lstlegernu@ezinearticles.com', 'Female', '149.25.26.223', 'Pôrto Barra do Ivinheima'], ['860', 'Ingemar', 'Gierok', 'igieroknv@apache.org', 'Male', '240.195.205.208', 'Avaré'], ['861', 'Winnah', 'Sprowell', 'wsprowellnw@wikimedia.org', 'Female', '109.41.167.45', 'Hägersten'], ['862', 'Kim', 'Boldry', 'kboldrynx@fc2.com', 'Male', '189.25.153.211', 'Umm Şalāl ‘Alī'], ['863', 'Katrina', 'Hexam', 'khexamny@nbcnews.com', 'Female', '34.6.42.148', 'Bonneuil-sur-Marne'], ['864', 'Tucky', 'Tiley', 'ttileynz@cam.ac.uk', 'Male', '78.39.156.244', 'Iowa City'], ['865', 'Lanette', 'Trainor', 'ltrainoro0@gmpg.org', 'Female', '220.45.69.117', 'Santa Catalina'], ['866', 'Marcia', 'Custy', 'mcustyo1@vkontakte.ru', 'Female', '113.87.78.219', 'Sungai'], ['867', 'Obadiah', 'Delahunt', 'odelahunto2@naver.com', 'Male', '46.121.247.134', 'Isiro'], ['868', 'Denny', 'Avrahamy', 'davrahamyo3@google.nl', 'Male', '41.8.123.31', 'Melres'], ['869', 'Casey', 'Di Claudio', 'cdiclaudioo4@hc360.com', 'Male', '155.101.251.95', 'Fengcheng'], ['870', 'Jessie', 'Willimot', 'jwillimoto5@google.it', 'Male', '215.123.115.134', 'Guankou'], ['871', 'Hanni', 'MacInherney', 'hmacinherneyo6@yolasite.com', 'Female', '190.148.145.104', 'Solna'], ['872', 'Titos', 'Poppy', 'tpoppyo7@trellian.com', 'Male', '73.214.200.220', 'Thaba Nchu'], ['873', 'Mariann', 'Matyugin', 'mmatyugino8@so-net.ne.jp', 'Female', '47.135.43.114', 'Duyanggang'], ['874', 'Kimble', 'Kneebone', 'kkneeboneo9@techcrunch.com', 'Male', '53.1.246.86', 'Géfyra'], ['875', 'Raynell', 'Tollerfield', 'rtollerfieldoa@ning.com', 'Female', '236.216.146.71', 'Mombasa'], ['876', 'Annie', 'Woolford', 'awoolfordob@yellowbook.com', 'Female', '213.48.2.195', 'San José de Feliciano'], ['877', 'Ryun', 'Shearwood', 'rshearwoodoc@nifty.com', 'Male', '176.109.232.157', 'Trinidad'], ['878', 'Martynne', 'Valerio', 'mvaleriood@biblegateway.com', 'Female', '213.92.103.233', 'Calle Blancos'], ['879', 'Sherman', 'Vaulkhard', 'svaulkhardoe@is.gd', 'Male', '18.111.45.167', 'Jatipamor'], ['880', 'Regina', 'Pemble', 'rpembleof@state.gov', 'Female', '110.141.126.66', 'El Limon'], ['881', 'Aggi', 'Wase', 'awaseog@java.com', 'Female', '225.252.144.190', 'Saint-Laurent-du-Var'], ['882', 'Yorke', 'Hurran', 'yhurranoh@flickr.com', 'Male', '153.15.188.46', 'Klokot'], ['883', 'Miller', 'Kegley', 'mkegleyoi@xrea.com', 'Male', '148.159.223.17', 'Chengzi'], ['884', 'Carlos', 'Kerrich', 'ckerrichoj@trellian.com', 'Male', '22.107.234.61', 'Pacho'], ['885', 'Lezley', 'Langshaw', 'llangshawok@va.gov', 'Male', '88.27.130.178', 'Trubchevsk'], ['886', 'Dewain', 'Goulborn', 'dgoulbornol@whitehouse.gov', 'Male', '253.192.28.168', 'Banyuurip'], ['887', 'Jorgan', 'Kielt', 'jkieltom@java.com', 'Male', '41.109.237.62', 'Namayingo'], ['888', 'Robinetta', 'Normabell', 'rnormabellon@seattletimes.com', 'Female', '50.139.21.226', 'Zhentian'], ['889', 'Webster', 'Leppington', 'wleppingtonoo@people.com.cn', 'Male', '156.2.248.20', 'Abejorral'], ['890', 'Ruby', 'Farnworth', 'rfarnworthop@printfriendly.com', 'Male', '243.136.26.131', 'Jibiya'], ['891', 'Rozele', 'Moncarr', 'rmoncarroq@mayoclinic.com', 'Female', '184.84.91.86', 'Puro'], ['892', 'Lorine', 'Warrillow', 'lwarrillowor@geocities.jp', 'Female', '28.247.227.190', 'Rosario de Mora'], ['893', 'Minta', 'Counihan', 'mcounihanos@rambler.ru', 'Female', '189.84.194.204', 'Pingdingshan'], ['894', 'Janel', 'Atkirk', 'jatkirkot@tinyurl.com', 'Female', '90.253.191.9', 'Pojok'], ['895', 'Adelice', 'Huckerbe', 'ahuckerbeou@go.com', 'Female', '28.88.58.224', 'Lisui'], ['896', 'Wendy', 'Meynell', 'wmeynellov@joomla.org', 'Female', '239.174.47.190', 'Bacacay'], ['897', 'Iain', 'Husk', 'ihuskow@cloudflare.com', 'Male', '238.216.119.34', 'Nynäshamn'], ['898', 'Antonia', 'Tarbet', 'atarbetox@pbs.org', 'Female', '9.147.222.67', 'Conchucos'], ['899', 'Cooper', 'Cloney', 'ccloneyoy@shutterfly.com', 'Male', '46.231.126.147', 'Gangjia'], ['900', 'Lizzy', 'Spittles', 'lspittlesoz@deviantart.com', 'Female', '121.26.88.99', 'Aleshtar'], ['901', 'Bryana', 'Champ', 'bchampp0@sitemeter.com', 'Female', '67.3.190.175', 'Cañas'], ['902', 'Georgi', 'Bleas', 'gbleasp1@joomla.org', 'Male', '180.237.183.73', 'Corona'], ['903', 'Fonsie', 'Bonehill', 'fbonehillp2@prnewswire.com', 'Male', '127.18.219.128', 'Aparecida de Goiânia'], ['904', 'Phil', 'Tsarovic', 'ptsarovicp3@mayoclinic.com', 'Male', '22.118.239.142', 'Montbrison'], ['905', 'Delores', 'Fenwick', 'dfenwickp4@economist.com', 'Female', '92.122.47.32', 'Willowdale'], ['906', 'Clarisse', 'Tilmouth', 'ctilmouthp5@jimdo.com', 'Female', '36.142.119.155', 'Santo Domingo'], ['907', 'Abbott', 'Caustic', 'acausticp6@tripod.com', 'Male', '66.216.37.43', 'San Antonio'], ['908', 'Martyn', 'Basil', 'mbasilp7@altervista.org', 'Male', '153.207.122.182', 'Qulaybīyah'], ['909', 'Orly', 'Feirn', 'ofeirnp8@aol.com', 'Female', '195.14.219.176', 'La Unión'], ['910', 'Gabriell', 'Winsborrow', 'gwinsborrowp9@theguardian.com', 'Female', '219.46.54.149', 'Zhulebino'], ['911', 'Noreen', 'Glidder', 'nglidderpa@oracle.com', 'Female', '156.6.62.215', 'Bestovje'], ['912', 'Dorelle', 'Thwaites', 'dthwaitespb@ning.com', 'Female', '213.221.81.3', 'Lākshām'], ['913', 'Ted', 'Tatersale', 'ttatersalepc@cam.ac.uk', 'Female', '74.37.252.220', 'Mangai'], ['914', 'Delinda', 'Kiebes', 'dkiebespd@blog.com', 'Female', '141.78.98.191', 'Agdangan'], ['915', 'Desirae', 'Clemmey', 'dclemmeype@linkedin.com', 'Female', '169.207.99.224', 'Öndörhoshuu'], ['916', 'Carly', 'Suston', 'csustonpf@blogger.com', 'Female', '203.229.183.134', 'Gia Nghĩa'], ['917', 'Fleming', 'Colls', 'fcollspg@prlog.org', 'Male', '164.205.149.251', 'Pallisa'], ['918', 'Terrijo', 'Hemeret', 'themeretph@issuu.com', 'Female', '229.138.7.102', 'Ueda'], ['919', 'Kane', 'Betser', 'kbetserpi@usatoday.com', 'Male', '64.78.140.248', 'Shyroke'], ['920', 'Abner', 'Dalligan', 'adalliganpj@guardian.co.uk', 'Male', '51.81.70.32', 'Tirat Karmel'], ['921', 'Jolie', 'Brightie', 'jbrightiepk@desdev.cn', 'Female', '1.191.102.176', 'Bodega'], ['922', 'Hastings', 'Lockett', 'hlockettpl@wsj.com', 'Male', '45.253.12.252', 'Bořetice'], ['923', 'Duffie', 'Andreou', 'dandreoupm@wsj.com', 'Male', '215.156.77.91', 'Xiangdong'], ['924', 'Darryl', 'Bletsor', 'dbletsorpn@weather.com', 'Female', '163.74.93.186', 'Chandler'], ['925', 'Loise', 'Shortt', 'lshorttpo@joomla.org', 'Female', '80.184.52.165', 'Iitti'], ['926', 'Gian', 'Di Biagi', 'gdibiagipp@baidu.com', 'Male', '151.228.234.104', 'Centralniy'], ['927', 'Dallas', 'Rowantree', 'drowantreepq@chicagotribune.com', 'Male', '139.124.28.107', 'Tsagaanders'], ['928', 'Trevar', 'Monnoyer', 'tmonnoyerpr@ucla.edu', 'Male', '78.124.237.246', 'Vũ Quang'], ['929', 'Lorilyn', 'Panner', 'lpannerps@phoca.cz', 'Female', '208.191.191.56', 'Wenwucao'], ['930', 'Felipa', 'McKaile', 'fmckailept@webs.com', 'Female', '180.173.193.151', 'Maciejowice'], ['931', 'Tiffanie', 'Ravel', 'travelpu@webmd.com', 'Female', '253.132.174.99', 'Kamen'], ['932', 'Leroy', 'Moizer', 'lmoizerpv@dagondesign.com', 'Male', '46.118.7.28', 'Rosh Pinna'], ['933', 'Addy', 'Bleesing', 'ableesingpw@uiuc.edu', 'Female', '163.93.53.132', 'Lahad Datu'], ['934', 'Dewie', 'Howton', 'dhowtonpx@yahoo.co.jp', 'Male', '148.153.244.46', 'Qingyun'], ['935', 'Dianne', 'Esposita', 'despositapy@tuttocitta.it', 'Female', '185.95.191.231', 'Timiryazevskoye'], ['936', 'Verney', 'Legging', 'vleggingpz@alexa.com', 'Male', '218.122.32.215', 'Lampitak'], ['937', 'Kaitlyn', 'Inge', 'kingeq0@w3.org', 'Female', '108.54.75.241', 'Pashiya'], ['938', 'Erwin', 'Hobson', 'ehobsonq1@simplemachines.org', 'Male', '103.109.115.90', 'Kimméria'], ['939', 'Aarika', 'Eeles', 'aeelesq2@example.com', 'Female', '15.196.17.238', 'Dawuhanmangli'], ['940', 'Aurora', 'Stockdale', 'astockdaleq3@blogger.com', 'Female', '176.117.120.141', 'Banzão'], ['941', 'Catherina', 'Toner', 'ctonerq4@clickbank.net', 'Female', '44.181.238.45', 'Nguigmi'], ['942', 'Claiborne', 'Yanyushkin', 'cyanyushkinq5@mozilla.com', 'Male', '129.14.187.176', 'Sozopol'], ['943', 'Kass', \"O' Concannon\", 'koconcannonq6@pen.io', 'Female', '69.201.225.40', 'Arīḩā'], ['944', 'Carolina', 'Daddow', 'cdaddowq7@flickr.com', 'Female', '11.173.186.246', 'Quilmaná'], ['945', 'Aaron', 'Antonsen', 'aantonsenq8@whitehouse.gov', 'Male', '0.192.253.81', 'Białobrzegi'], ['946', 'Paton', 'Cahalin', 'pcahalinq9@moonfruit.com', 'Male', '163.204.186.228', 'Sankera'], ['947', 'Angie', 'Spyby', 'aspybyqa@twitpic.com', 'Female', '148.42.190.129', 'Baku'], ['948', 'Karlan', 'Woolgar', 'kwoolgarqb@examiner.com', 'Male', '141.226.155.201', 'Birinci Aşıqlı'], ['949', 'Walsh', 'Pranger', 'wprangerqc@ca.gov', 'Male', '83.61.226.154', 'Sulkava'], ['950', 'Jacqueline', 'Yglesia', 'jyglesiaqd@devhub.com', 'Female', '157.218.152.72', 'Älvsbyn'], ['951', 'Parnell', 'Kinloch', 'pkinlochqe@reference.com', 'Male', '60.122.1.119', 'Rožďalovice'], ['952', 'Shena', 'Townshend', 'stownshendqf@livejournal.com', 'Female', '53.15.203.106', 'Yong’an'], ['953', 'Kelli', 'Nunn', 'knunnqg@yellowbook.com', 'Female', '6.243.78.148', 'St. Catharines'], ['954', 'Minda', 'Treves', 'mtrevesqh@cyberchimps.com', 'Female', '179.198.30.20', 'Kurzętnik'], ['955', 'Perren', 'Riglar', 'priglarqi@princeton.edu', 'Male', '179.9.112.226', 'Cikou'], ['956', 'Shurlock', 'Rubanenko', 'srubanenkoqj@narod.ru', 'Male', '124.177.68.255', 'Jishi'], ['957', 'Karlik', 'Anan', 'kananqk@bigcartel.com', 'Male', '211.80.3.156', 'Shiqian'], ['958', 'Mayne', 'Wall', 'mwallql@who.int', 'Male', '92.159.108.202', 'Mulandoro'], ['959', 'Catherin', 'Winger', 'cwingerqm@infoseek.co.jp', 'Female', '81.207.80.151', 'Huangduobu'], ['960', 'Sioux', 'Smillie', 'ssmillieqn@so-net.ne.jp', 'Female', '106.42.217.238', 'Nomhon'], ['961', 'Tobin', 'Grice', 'tgriceqo@elegantthemes.com', 'Male', '119.60.73.193', 'Lokoja'], ['962', 'Hercules', 'Curneen', 'hcurneenqp@hostgator.com', 'Male', '61.81.42.7', 'Richmond'], ['963', 'Darcie', 'Hubeaux', 'dhubeauxqq@twitpic.com', 'Female', '252.254.215.180', 'Loureiro'], ['964', 'Ellyn', 'Zwicker', 'ezwickerqr@ucla.edu', 'Female', '34.181.10.155', 'Toguchin'], ['965', 'Davide', 'Marrow', 'dmarrowqs@e-recht24.de', 'Male', '207.35.57.112', 'Vermil'], ['966', 'Finley', 'Riolfi', 'friolfiqt@macromedia.com', 'Male', '114.211.141.200', 'Vällingby'], ['967', 'Rosemonde', 'Ilyukhov', 'rilyukhovqu@jigsy.com', 'Female', '32.4.241.83', 'Namangan Shahri'], ['968', 'Marten', 'McKall', 'mmckallqv@odnoklassniki.ru', 'Male', '28.86.37.196', 'San Esteban'], ['969', 'Crista', 'Portinari', 'cportinariqw@parallels.com', 'Female', '84.136.203.101', 'Sepanjang'], ['970', 'Torrence', 'Havoc', 'thavocqx@japanpost.jp', 'Male', '142.112.110.51', 'Chejiazhuang'], ['971', 'Rici', 'Jocic', 'rjocicqy@odnoklassniki.ru', 'Female', '146.91.187.253', 'Dřevohostice'], ['972', 'Tad', \"O'Loughnan\", 'toloughnanqz@bloglines.com', 'Male', '137.55.77.161', 'Karanglincak'], ['973', 'Danyelle', 'Aslet', 'dasletr0@t.co', 'Female', '220.234.69.142', 'Gjinoc'], ['974', 'Wallas', 'Sabberton', 'wsabbertonr1@cocolog-nifty.com', 'Male', '242.214.215.62', 'Suqu'], ['975', 'Genevra', 'Berkery', 'gberkeryr2@last.fm', 'Female', '108.162.138.106', 'Oum Hadjer'], ['976', 'Roarke', 'Berthe', 'rberther3@omniture.com', 'Male', '208.101.213.119', 'Mae Fa Luang'], ['977', 'Ryan', 'Searson', 'rsearsonr4@rambler.ru', 'Male', '67.91.243.143', 'Pyatigorsk'], ['978', 'Kerri', 'Polson', 'kpolsonr5@chron.com', 'Female', '10.16.140.78', 'Öldziyt'], ['979', 'Allister', 'Grigorini', 'agrigorinir6@bloglines.com', 'Male', '178.196.171.156', 'Pato Branco'], ['980', 'Terese', 'Thoumasson', 'tthoumassonr7@bloglines.com', 'Female', '1.187.193.193', 'Nōgata'], ['981', 'Franklyn', 'Ickovitz', 'fickovitzr8@oakley.com', 'Male', '190.129.63.145', 'Conceição das Alagoas'], ['982', 'Byrom', 'Trye', 'btryer9@parallels.com', 'Male', '253.197.119.102', 'Almada'], ['983', 'Hamlin', 'Shearston', 'hshearstonra@clickbank.net', 'Male', '209.133.239.108', 'Potosí'], ['984', 'Patrizia', 'Drew-Clifton', 'pdrewcliftonrb@nsw.gov.au', 'Female', '109.103.70.24', 'Guariba'], ['985', 'Thane', 'Kindell', 'tkindellrc@amazonaws.com', 'Male', '71.199.121.133', 'Mengcheng Chengguanzhen'], ['986', 'Basile', 'Speerman', 'bspeermanrd@blogger.com', 'Male', '163.71.220.229', 'Tiecun'], ['987', 'Jamison', 'Line', 'jlinere@pinterest.com', 'Male', '100.52.196.187', 'Oklahoma City'], ['988', 'Ev', 'Tremathack', 'etremathackrf@github.io', 'Male', '121.180.48.101', 'Xinzha'], ['989', 'Care', 'Gladdis', 'cgladdisrg@hp.com', 'Male', '121.8.176.32', 'Leles'], ['990', 'Gerrie', 'Nilles', 'gnillesrh@usgs.gov', 'Female', '157.132.4.185', 'Sherwood Park'], ['991', 'Bat', 'Tomczynski', 'btomczynskiri@toplist.cz', 'Male', '138.39.70.190', '‘Arīqah'], ['992', 'Bernelle', 'Sheavills', 'bsheavillsrj@biblegateway.com', 'Female', '149.217.194.24', 'Thanatpin'], ['993', 'Alvera', 'Marvelley', 'amarvelleyrk@miibeian.gov.cn', 'Female', '8.87.243.103', 'Kleszczewo'], ['994', 'Lothaire', 'Luxford', 'lluxfordrl@redcross.org', 'Male', '65.32.26.102', 'Si Racha'], ['995', 'Glynn', 'Wakerley', 'gwakerleyrm@disqus.com', 'Male', '10.67.24.104', 'Rennes'], ['996', 'Parrnell', 'Jeff', 'pjeffrn@4shared.com', 'Male', '159.55.55.39', 'Dengok'], ['997', 'Pat', 'Warstall', 'pwarstallro@dropbox.com', 'Male', '169.200.7.131', 'Rosário do Sul'], ['998', 'Willyt', 'Vannuccini', 'wvannuccinirp@tuttocitta.it', 'Female', '156.149.18.155', 'Xiaopingba'], ['999', 'Gaelan', 'Petrashkov', 'gpetrashkovrq@hostgator.com', 'Male', '219.109.169.75', 'Bethlehem'], ['1000', 'Stirling', 'Francesc', 'sfrancescrr@cyberchimps.com', 'Male', '108.193.9.206', 'Potok Złoty']]\n"
     ]
    }
   ],
   "source": [
    "# Open the file \n",
    "data = open('example.csv')\n",
    "# csv.reader\n",
    "csv_data = csv.reader(data)\n",
    "# reformat it into a python object list of lists\n",
    "data_lines = list(csv_data)\n",
    "\n",
    "print(data_lines)"
   ]
  },
  {
   "cell_type": "code",
   "execution_count": 8,
   "metadata": {},
   "outputs": [],
   "source": [
    "# Open the file \n",
    "data = open('example.csv', encoding='utf-8')\n",
    "# csv.reader\n",
    "csv_data = csv.reader(data)\n",
    "# reformat it into a python object list of lists\n",
    "data_lines = list(csv_data)"
   ]
  },
  {
   "cell_type": "code",
   "execution_count": 9,
   "metadata": {
    "tags": [
     "outputPrepend"
    ]
   },
   "outputs": [
    {
     "output_type": "stream",
     "name": "stdout",
     "text": [
      "], ['792', 'Cart', 'Escot', 'cescotlz@deviantart.com', 'Male', '90.112.220.226', 'Jarinu'], ['793', 'Emerson', 'Southgate', 'esouthgatem0@si.edu', 'Male', '222.161.148.46', 'Perbaungan'], ['794', 'Gino', 'Delepine', 'gdelepinem1@parallels.com', 'Male', '53.24.113.23', 'Rizári'], ['795', 'Perrine', 'Beranek', 'pberanekm2@vk.com', 'Female', '50.227.71.150', 'Yiánnouli'], ['796', 'Alfonso', 'Jados', 'ajadosm3@mozilla.org', 'Male', '90.161.249.121', 'Merritt'], ['797', 'Hali', 'Dragonette', 'hdragonettem4@slideshare.net', 'Female', '37.234.6.140', 'Thị Trấn Cao Phong'], ['798', 'Bebe', 'Mellhuish', 'bmellhuishm5@psu.edu', 'Female', '158.100.207.244', 'Matagami'], ['799', 'Constantia', 'Tomaskunas', 'ctomaskunasm6@friendfeed.com', 'Female', '181.178.161.190', 'Elias Fausto'], ['800', 'Ashley', 'Wollard', 'awollardm7@sciencedirect.com', 'Female', '41.71.196.161', 'Carreira'], ['801', 'Aime', 'Bruckman', 'abruckmanm8@naver.com', 'Female', '163.55.76.124', 'Baqiao'], ['802', 'Temp', 'McMearty', 'tmcmeartym9@lycos.com', 'Male', '129.128.17.101', 'Porsgrunn'], ['803', 'Belita', 'Kynge', 'bkyngema@nih.gov', 'Female', '229.198.160.116', 'Batiano'], ['804', 'Irma', 'Gillford', 'igillfordmb@fotki.com', 'Female', '188.3.135.88', 'Yangxi'], ['805', 'Mariejeanne', 'Mound', 'mmoundmc@soup.io', 'Female', '116.154.104.117', 'Tissa'], ['806', 'Shannah', 'Daudray', 'sdaudraymd@cyberchimps.com', 'Female', '219.175.89.132', 'Tagdanua'], ['807', 'Wolfy', 'Degli Antoni', 'wdegliantonime@unc.edu', 'Male', '216.94.147.51', 'Diourbel'], ['808', 'Kev', 'Bagniuk', 'kbagniukmf@xrea.com', 'Male', '25.239.125.7', 'Itaqui'], ['809', 'Tobi', 'Doyland', 'tdoylandmg@friendfeed.com', 'Female', '61.110.75.68', 'Limeil-Brévannes'], ['810', 'Daniela', 'Crosskell', 'dcrosskellmh@taobao.com', 'Female', '54.162.5.201', 'Punkaharju'], ['811', 'Hayden', 'Quade', 'hquademi@ucoz.com', 'Male', '251.117.159.22', 'Heishan'], ['812', 'Jodee', 'Kitteman', 'jkittemanmj@smugmug.com', 'Female', '62.246.68.102', 'Maslovare'], ['813', 'Corina', 'Lockart', 'clockartmk@yale.edu', 'Female', '108.130.175.118', 'Hongtang'], ['814', 'Delcina', 'MacAnelley', 'dmacanelleyml@nasa.gov', 'Female', '74.150.111.239', 'Chumpi'], ['815', 'Yuma', 'Tattershall', 'ytattershallmm@spiegel.de', 'Male', '115.219.51.8', 'Paris 17'], ['816', 'Jonathon', 'Ipplett', 'jipplettmn@spotify.com', 'Male', '241.8.118.20', 'Privlaka'], ['817', 'Aura', 'MacMychem', 'amacmychemmo@newsvine.com', 'Female', '101.109.194.210', 'Osias'], ['818', 'Pierre', 'Wortman', 'pwortmanmp@theguardian.com', 'Male', '227.237.236.201', 'Město'], ['819', 'Lowe', 'Scini', 'lscinimq@newsvine.com', 'Male', '200.13.153.137', 'Langchi'], ['820', 'Giustina', 'Huckabe', 'ghuckabemr@angelfire.com', 'Female', '34.86.8.191', 'Uherský Ostroh'], ['821', 'Nannie', 'Harrismith', 'nharrismithms@naver.com', 'Female', '8.50.169.30', 'Bayside'], ['822', 'Denny', 'Bowry', 'dbowrymt@mozilla.com', 'Male', '247.206.123.29', 'Krajanjugosari'], ['823', 'Carney', 'Maunders', 'cmaundersmu@tripod.com', 'Male', '177.87.58.168', 'Segong'], ['824', 'Fonsie', 'de Marco', 'fdemarcomv@moonfruit.com', 'Male', '209.3.117.173', 'Sariwŏn'], ['825', 'Zelig', 'Sparrowhawk', 'zsparrowhawkmw@vimeo.com', 'Male', '108.125.27.193', 'Kolochava'], ['826', 'Irvine', 'Mill', 'imillmx@yahoo.co.jp', 'Male', '194.198.63.176', 'Huangni'], ['827', 'Gracie', 'Dorsett', 'gdorsettmy@unesco.org', 'Female', '227.246.209.86', 'Castanhal'], ['828', 'Pen', 'Lundy', 'plundymz@yandex.ru', 'Male', '97.98.168.26', 'Richky'], ['829', 'Arni', 'Ducarel', 'aducareln0@yolasite.com', 'Male', '202.231.146.117', 'Tatarsk'], ['830', 'Carrie', 'Goding', 'cgodingn1@businessweek.com', 'Female', '248.231.113.207', 'Banjarejo'], ['831', 'Sonya', 'Clifft', 'sclifftn2@businesswire.com', 'Female', '139.46.233.62', 'Saynshand'], ['832', 'Chilton', 'Josland', 'cjoslandn3@skyrock.com', 'Male', '14.117.107.33', 'Prokhladnyy'], ['833', 'Melly', 'Furphy', 'mfurphyn4@irs.gov', 'Female', '213.13.119.195', 'Sinfra'], ['834', 'Nial', 'Garcia', 'ngarcian5@indiegogo.com', 'Male', '88.1.195.231', 'Mauhao'], ['835', 'Nerta', 'Patrick', 'npatrickn6@deliciousdays.com', 'Female', '10.180.177.120', 'Lom Kao'], ['836', 'Kissee', 'Busby', 'kbusbyn7@fastcompany.com', 'Female', '59.201.190.0', 'Malhiao'], ['837', 'Ellene', 'Rosenstein', 'erosensteinn8@geocities.com', 'Female', '134.211.107.212', 'Baumata'], ['838', 'Jessamine', 'St. Paul', 'jstpauln9@blogspot.com', 'Female', '62.149.106.75', 'Manadas'], ['839', 'Constantino', 'Truin', 'ctruinna@homestead.com', 'Male', '155.91.86.224', 'San Javier'], ['840', 'Anitra', 'Kopf', 'akopfnb@prlog.org', 'Female', '6.15.186.20', 'San Agustin'], ['841', 'Sigismund', 'Barnish', 'sbarnishnc@twitter.com', 'Male', '170.148.96.127', 'Izingolweni'], ['842', 'Giustina', 'Dumblton', 'gdumbltonnd@opensource.org', 'Female', '213.95.197.156', 'Honglong'], ['843', 'Amye', 'Siely', 'asielyne@imdb.com', 'Female', '184.41.70.19', 'Tvøroyri'], ['844', 'Chaim', 'Miche', 'cmichenf@amazon.co.jp', 'Male', '194.178.94.159', 'Shicha'], ['845', 'Chev', 'Polson', 'cpolsonng@shop-pro.jp', 'Male', '240.72.39.247', 'Wojaszówka'], ['846', 'Sherwin', 'Marriage', 'smarriagenh@devhub.com', 'Male', '193.127.164.248', 'Weishan'], ['847', 'Babara', 'Konke', 'bkonkeni@slate.com', 'Female', '9.101.60.54', 'Thành Phố Lạng Sơn'], ['848', 'Ethelind', 'Gloster', 'eglosternj@webmd.com', 'Female', '248.208.128.128', 'Staromyshastovskaya'], ['849', 'Betteann', 'Tsarovic', 'btsarovicnk@cnbc.com', 'Female', '102.184.254.222', 'Pukou'], ['850', 'Montague', 'Devoy', 'mdevoynl@cloudflare.com', 'Male', '252.207.148.230', 'Topolná'], ['851', 'Sibelle', 'Godfray', 'sgodfraynm@google.com.au', 'Female', '178.39.99.237', 'Hato Mayor del Rey'], ['852', 'Flinn', 'Daspar', 'fdasparnn@photobucket.com', 'Male', '92.27.245.127', 'Camiling'], ['853', 'Dalis', 'Caves', 'dcavesno@businessweek.com', 'Male', '94.250.241.87', 'Umm as Summāq'], ['854', 'Christin', 'Worters', 'cwortersnp@lulu.com', 'Female', '241.196.206.241', 'Erping'], ['855', 'Gayel', 'Goodluck', 'ggoodlucknq@epa.gov', 'Female', '1.22.117.81', 'Boulder'], ['856', 'Lilli', 'Skinner', 'lskinnernr@cnet.com', 'Female', '244.134.85.29', 'Zhongfang'], ['857', 'Norrie', 'Emmanuele', 'nemmanuelens@drupal.org', 'Male', '31.115.252.67', 'Shucheng Chengguanzhen'], ['858', 'Stanislaw', 'McClenan', 'smcclenannt@theguardian.com', 'Male', '32.61.125.245', 'Poshnje'], ['859', 'Leilah', 'St. Leger', 'lstlegernu@ezinearticles.com', 'Female', '149.25.26.223', 'Pôrto Barra do Ivinheima'], ['860', 'Ingemar', 'Gierok', 'igieroknv@apache.org', 'Male', '240.195.205.208', 'Avaré'], ['861', 'Winnah', 'Sprowell', 'wsprowellnw@wikimedia.org', 'Female', '109.41.167.45', 'Hägersten'], ['862', 'Kim', 'Boldry', 'kboldrynx@fc2.com', 'Male', '189.25.153.211', 'Umm Şalāl ‘Alī'], ['863', 'Katrina', 'Hexam', 'khexamny@nbcnews.com', 'Female', '34.6.42.148', 'Bonneuil-sur-Marne'], ['864', 'Tucky', 'Tiley', 'ttileynz@cam.ac.uk', 'Male', '78.39.156.244', 'Iowa City'], ['865', 'Lanette', 'Trainor', 'ltrainoro0@gmpg.org', 'Female', '220.45.69.117', 'Santa Catalina'], ['866', 'Marcia', 'Custy', 'mcustyo1@vkontakte.ru', 'Female', '113.87.78.219', 'Sungai'], ['867', 'Obadiah', 'Delahunt', 'odelahunto2@naver.com', 'Male', '46.121.247.134', 'Isiro'], ['868', 'Denny', 'Avrahamy', 'davrahamyo3@google.nl', 'Male', '41.8.123.31', 'Melres'], ['869', 'Casey', 'Di Claudio', 'cdiclaudioo4@hc360.com', 'Male', '155.101.251.95', 'Fengcheng'], ['870', 'Jessie', 'Willimot', 'jwillimoto5@google.it', 'Male', '215.123.115.134', 'Guankou'], ['871', 'Hanni', 'MacInherney', 'hmacinherneyo6@yolasite.com', 'Female', '190.148.145.104', 'Solna'], ['872', 'Titos', 'Poppy', 'tpoppyo7@trellian.com', 'Male', '73.214.200.220', 'Thaba Nchu'], ['873', 'Mariann', 'Matyugin', 'mmatyugino8@so-net.ne.jp', 'Female', '47.135.43.114', 'Duyanggang'], ['874', 'Kimble', 'Kneebone', 'kkneeboneo9@techcrunch.com', 'Male', '53.1.246.86', 'Géfyra'], ['875', 'Raynell', 'Tollerfield', 'rtollerfieldoa@ning.com', 'Female', '236.216.146.71', 'Mombasa'], ['876', 'Annie', 'Woolford', 'awoolfordob@yellowbook.com', 'Female', '213.48.2.195', 'San José de Feliciano'], ['877', 'Ryun', 'Shearwood', 'rshearwoodoc@nifty.com', 'Male', '176.109.232.157', 'Trinidad'], ['878', 'Martynne', 'Valerio', 'mvaleriood@biblegateway.com', 'Female', '213.92.103.233', 'Calle Blancos'], ['879', 'Sherman', 'Vaulkhard', 'svaulkhardoe@is.gd', 'Male', '18.111.45.167', 'Jatipamor'], ['880', 'Regina', 'Pemble', 'rpembleof@state.gov', 'Female', '110.141.126.66', 'El Limon'], ['881', 'Aggi', 'Wase', 'awaseog@java.com', 'Female', '225.252.144.190', 'Saint-Laurent-du-Var'], ['882', 'Yorke', 'Hurran', 'yhurranoh@flickr.com', 'Male', '153.15.188.46', 'Klokot'], ['883', 'Miller', 'Kegley', 'mkegleyoi@xrea.com', 'Male', '148.159.223.17', 'Chengzi'], ['884', 'Carlos', 'Kerrich', 'ckerrichoj@trellian.com', 'Male', '22.107.234.61', 'Pacho'], ['885', 'Lezley', 'Langshaw', 'llangshawok@va.gov', 'Male', '88.27.130.178', 'Trubchevsk'], ['886', 'Dewain', 'Goulborn', 'dgoulbornol@whitehouse.gov', 'Male', '253.192.28.168', 'Banyuurip'], ['887', 'Jorgan', 'Kielt', 'jkieltom@java.com', 'Male', '41.109.237.62', 'Namayingo'], ['888', 'Robinetta', 'Normabell', 'rnormabellon@seattletimes.com', 'Female', '50.139.21.226', 'Zhentian'], ['889', 'Webster', 'Leppington', 'wleppingtonoo@people.com.cn', 'Male', '156.2.248.20', 'Abejorral'], ['890', 'Ruby', 'Farnworth', 'rfarnworthop@printfriendly.com', 'Male', '243.136.26.131', 'Jibiya'], ['891', 'Rozele', 'Moncarr', 'rmoncarroq@mayoclinic.com', 'Female', '184.84.91.86', 'Puro'], ['892', 'Lorine', 'Warrillow', 'lwarrillowor@geocities.jp', 'Female', '28.247.227.190', 'Rosario de Mora'], ['893', 'Minta', 'Counihan', 'mcounihanos@rambler.ru', 'Female', '189.84.194.204', 'Pingdingshan'], ['894', 'Janel', 'Atkirk', 'jatkirkot@tinyurl.com', 'Female', '90.253.191.9', 'Pojok'], ['895', 'Adelice', 'Huckerbe', 'ahuckerbeou@go.com', 'Female', '28.88.58.224', 'Lisui'], ['896', 'Wendy', 'Meynell', 'wmeynellov@joomla.org', 'Female', '239.174.47.190', 'Bacacay'], ['897', 'Iain', 'Husk', 'ihuskow@cloudflare.com', 'Male', '238.216.119.34', 'Nynäshamn'], ['898', 'Antonia', 'Tarbet', 'atarbetox@pbs.org', 'Female', '9.147.222.67', 'Conchucos'], ['899', 'Cooper', 'Cloney', 'ccloneyoy@shutterfly.com', 'Male', '46.231.126.147', 'Gangjia'], ['900', 'Lizzy', 'Spittles', 'lspittlesoz@deviantart.com', 'Female', '121.26.88.99', 'Aleshtar'], ['901', 'Bryana', 'Champ', 'bchampp0@sitemeter.com', 'Female', '67.3.190.175', 'Cañas'], ['902', 'Georgi', 'Bleas', 'gbleasp1@joomla.org', 'Male', '180.237.183.73', 'Corona'], ['903', 'Fonsie', 'Bonehill', 'fbonehillp2@prnewswire.com', 'Male', '127.18.219.128', 'Aparecida de Goiânia'], ['904', 'Phil', 'Tsarovic', 'ptsarovicp3@mayoclinic.com', 'Male', '22.118.239.142', 'Montbrison'], ['905', 'Delores', 'Fenwick', 'dfenwickp4@economist.com', 'Female', '92.122.47.32', 'Willowdale'], ['906', 'Clarisse', 'Tilmouth', 'ctilmouthp5@jimdo.com', 'Female', '36.142.119.155', 'Santo Domingo'], ['907', 'Abbott', 'Caustic', 'acausticp6@tripod.com', 'Male', '66.216.37.43', 'San Antonio'], ['908', 'Martyn', 'Basil', 'mbasilp7@altervista.org', 'Male', '153.207.122.182', 'Qulaybīyah'], ['909', 'Orly', 'Feirn', 'ofeirnp8@aol.com', 'Female', '195.14.219.176', 'La Unión'], ['910', 'Gabriell', 'Winsborrow', 'gwinsborrowp9@theguardian.com', 'Female', '219.46.54.149', 'Zhulebino'], ['911', 'Noreen', 'Glidder', 'nglidderpa@oracle.com', 'Female', '156.6.62.215', 'Bestovje'], ['912', 'Dorelle', 'Thwaites', 'dthwaitespb@ning.com', 'Female', '213.221.81.3', 'Lākshām'], ['913', 'Ted', 'Tatersale', 'ttatersalepc@cam.ac.uk', 'Female', '74.37.252.220', 'Mangai'], ['914', 'Delinda', 'Kiebes', 'dkiebespd@blog.com', 'Female', '141.78.98.191', 'Agdangan'], ['915', 'Desirae', 'Clemmey', 'dclemmeype@linkedin.com', 'Female', '169.207.99.224', 'Öndörhoshuu'], ['916', 'Carly', 'Suston', 'csustonpf@blogger.com', 'Female', '203.229.183.134', 'Gia Nghĩa'], ['917', 'Fleming', 'Colls', 'fcollspg@prlog.org', 'Male', '164.205.149.251', 'Pallisa'], ['918', 'Terrijo', 'Hemeret', 'themeretph@issuu.com', 'Female', '229.138.7.102', 'Ueda'], ['919', 'Kane', 'Betser', 'kbetserpi@usatoday.com', 'Male', '64.78.140.248', 'Shyroke'], ['920', 'Abner', 'Dalligan', 'adalliganpj@guardian.co.uk', 'Male', '51.81.70.32', 'Tirat Karmel'], ['921', 'Jolie', 'Brightie', 'jbrightiepk@desdev.cn', 'Female', '1.191.102.176', 'Bodega'], ['922', 'Hastings', 'Lockett', 'hlockettpl@wsj.com', 'Male', '45.253.12.252', 'Bořetice'], ['923', 'Duffie', 'Andreou', 'dandreoupm@wsj.com', 'Male', '215.156.77.91', 'Xiangdong'], ['924', 'Darryl', 'Bletsor', 'dbletsorpn@weather.com', 'Female', '163.74.93.186', 'Chandler'], ['925', 'Loise', 'Shortt', 'lshorttpo@joomla.org', 'Female', '80.184.52.165', 'Iitti'], ['926', 'Gian', 'Di Biagi', 'gdibiagipp@baidu.com', 'Male', '151.228.234.104', 'Centralniy'], ['927', 'Dallas', 'Rowantree', 'drowantreepq@chicagotribune.com', 'Male', '139.124.28.107', 'Tsagaanders'], ['928', 'Trevar', 'Monnoyer', 'tmonnoyerpr@ucla.edu', 'Male', '78.124.237.246', 'Vũ Quang'], ['929', 'Lorilyn', 'Panner', 'lpannerps@phoca.cz', 'Female', '208.191.191.56', 'Wenwucao'], ['930', 'Felipa', 'McKaile', 'fmckailept@webs.com', 'Female', '180.173.193.151', 'Maciejowice'], ['931', 'Tiffanie', 'Ravel', 'travelpu@webmd.com', 'Female', '253.132.174.99', 'Kamen'], ['932', 'Leroy', 'Moizer', 'lmoizerpv@dagondesign.com', 'Male', '46.118.7.28', 'Rosh Pinna'], ['933', 'Addy', 'Bleesing', 'ableesingpw@uiuc.edu', 'Female', '163.93.53.132', 'Lahad Datu'], ['934', 'Dewie', 'Howton', 'dhowtonpx@yahoo.co.jp', 'Male', '148.153.244.46', 'Qingyun'], ['935', 'Dianne', 'Esposita', 'despositapy@tuttocitta.it', 'Female', '185.95.191.231', 'Timiryazevskoye'], ['936', 'Verney', 'Legging', 'vleggingpz@alexa.com', 'Male', '218.122.32.215', 'Lampitak'], ['937', 'Kaitlyn', 'Inge', 'kingeq0@w3.org', 'Female', '108.54.75.241', 'Pashiya'], ['938', 'Erwin', 'Hobson', 'ehobsonq1@simplemachines.org', 'Male', '103.109.115.90', 'Kimméria'], ['939', 'Aarika', 'Eeles', 'aeelesq2@example.com', 'Female', '15.196.17.238', 'Dawuhanmangli'], ['940', 'Aurora', 'Stockdale', 'astockdaleq3@blogger.com', 'Female', '176.117.120.141', 'Banzão'], ['941', 'Catherina', 'Toner', 'ctonerq4@clickbank.net', 'Female', '44.181.238.45', 'Nguigmi'], ['942', 'Claiborne', 'Yanyushkin', 'cyanyushkinq5@mozilla.com', 'Male', '129.14.187.176', 'Sozopol'], ['943', 'Kass', \"O' Concannon\", 'koconcannonq6@pen.io', 'Female', '69.201.225.40', 'Arīḩā'], ['944', 'Carolina', 'Daddow', 'cdaddowq7@flickr.com', 'Female', '11.173.186.246', 'Quilmaná'], ['945', 'Aaron', 'Antonsen', 'aantonsenq8@whitehouse.gov', 'Male', '0.192.253.81', 'Białobrzegi'], ['946', 'Paton', 'Cahalin', 'pcahalinq9@moonfruit.com', 'Male', '163.204.186.228', 'Sankera'], ['947', 'Angie', 'Spyby', 'aspybyqa@twitpic.com', 'Female', '148.42.190.129', 'Baku'], ['948', 'Karlan', 'Woolgar', 'kwoolgarqb@examiner.com', 'Male', '141.226.155.201', 'Birinci Aşıqlı'], ['949', 'Walsh', 'Pranger', 'wprangerqc@ca.gov', 'Male', '83.61.226.154', 'Sulkava'], ['950', 'Jacqueline', 'Yglesia', 'jyglesiaqd@devhub.com', 'Female', '157.218.152.72', 'Älvsbyn'], ['951', 'Parnell', 'Kinloch', 'pkinlochqe@reference.com', 'Male', '60.122.1.119', 'Rožďalovice'], ['952', 'Shena', 'Townshend', 'stownshendqf@livejournal.com', 'Female', '53.15.203.106', 'Yong’an'], ['953', 'Kelli', 'Nunn', 'knunnqg@yellowbook.com', 'Female', '6.243.78.148', 'St. Catharines'], ['954', 'Minda', 'Treves', 'mtrevesqh@cyberchimps.com', 'Female', '179.198.30.20', 'Kurzętnik'], ['955', 'Perren', 'Riglar', 'priglarqi@princeton.edu', 'Male', '179.9.112.226', 'Cikou'], ['956', 'Shurlock', 'Rubanenko', 'srubanenkoqj@narod.ru', 'Male', '124.177.68.255', 'Jishi'], ['957', 'Karlik', 'Anan', 'kananqk@bigcartel.com', 'Male', '211.80.3.156', 'Shiqian'], ['958', 'Mayne', 'Wall', 'mwallql@who.int', 'Male', '92.159.108.202', 'Mulandoro'], ['959', 'Catherin', 'Winger', 'cwingerqm@infoseek.co.jp', 'Female', '81.207.80.151', 'Huangduobu'], ['960', 'Sioux', 'Smillie', 'ssmillieqn@so-net.ne.jp', 'Female', '106.42.217.238', 'Nomhon'], ['961', 'Tobin', 'Grice', 'tgriceqo@elegantthemes.com', 'Male', '119.60.73.193', 'Lokoja'], ['962', 'Hercules', 'Curneen', 'hcurneenqp@hostgator.com', 'Male', '61.81.42.7', 'Richmond'], ['963', 'Darcie', 'Hubeaux', 'dhubeauxqq@twitpic.com', 'Female', '252.254.215.180', 'Loureiro'], ['964', 'Ellyn', 'Zwicker', 'ezwickerqr@ucla.edu', 'Female', '34.181.10.155', 'Toguchin'], ['965', 'Davide', 'Marrow', 'dmarrowqs@e-recht24.de', 'Male', '207.35.57.112', 'Vermil'], ['966', 'Finley', 'Riolfi', 'friolfiqt@macromedia.com', 'Male', '114.211.141.200', 'Vällingby'], ['967', 'Rosemonde', 'Ilyukhov', 'rilyukhovqu@jigsy.com', 'Female', '32.4.241.83', 'Namangan Shahri'], ['968', 'Marten', 'McKall', 'mmckallqv@odnoklassniki.ru', 'Male', '28.86.37.196', 'San Esteban'], ['969', 'Crista', 'Portinari', 'cportinariqw@parallels.com', 'Female', '84.136.203.101', 'Sepanjang'], ['970', 'Torrence', 'Havoc', 'thavocqx@japanpost.jp', 'Male', '142.112.110.51', 'Chejiazhuang'], ['971', 'Rici', 'Jocic', 'rjocicqy@odnoklassniki.ru', 'Female', '146.91.187.253', 'Dřevohostice'], ['972', 'Tad', \"O'Loughnan\", 'toloughnanqz@bloglines.com', 'Male', '137.55.77.161', 'Karanglincak'], ['973', 'Danyelle', 'Aslet', 'dasletr0@t.co', 'Female', '220.234.69.142', 'Gjinoc'], ['974', 'Wallas', 'Sabberton', 'wsabbertonr1@cocolog-nifty.com', 'Male', '242.214.215.62', 'Suqu'], ['975', 'Genevra', 'Berkery', 'gberkeryr2@last.fm', 'Female', '108.162.138.106', 'Oum Hadjer'], ['976', 'Roarke', 'Berthe', 'rberther3@omniture.com', 'Male', '208.101.213.119', 'Mae Fa Luang'], ['977', 'Ryan', 'Searson', 'rsearsonr4@rambler.ru', 'Male', '67.91.243.143', 'Pyatigorsk'], ['978', 'Kerri', 'Polson', 'kpolsonr5@chron.com', 'Female', '10.16.140.78', 'Öldziyt'], ['979', 'Allister', 'Grigorini', 'agrigorinir6@bloglines.com', 'Male', '178.196.171.156', 'Pato Branco'], ['980', 'Terese', 'Thoumasson', 'tthoumassonr7@bloglines.com', 'Female', '1.187.193.193', 'Nōgata'], ['981', 'Franklyn', 'Ickovitz', 'fickovitzr8@oakley.com', 'Male', '190.129.63.145', 'Conceição das Alagoas'], ['982', 'Byrom', 'Trye', 'btryer9@parallels.com', 'Male', '253.197.119.102', 'Almada'], ['983', 'Hamlin', 'Shearston', 'hshearstonra@clickbank.net', 'Male', '209.133.239.108', 'Potosí'], ['984', 'Patrizia', 'Drew-Clifton', 'pdrewcliftonrb@nsw.gov.au', 'Female', '109.103.70.24', 'Guariba'], ['985', 'Thane', 'Kindell', 'tkindellrc@amazonaws.com', 'Male', '71.199.121.133', 'Mengcheng Chengguanzhen'], ['986', 'Basile', 'Speerman', 'bspeermanrd@blogger.com', 'Male', '163.71.220.229', 'Tiecun'], ['987', 'Jamison', 'Line', 'jlinere@pinterest.com', 'Male', '100.52.196.187', 'Oklahoma City'], ['988', 'Ev', 'Tremathack', 'etremathackrf@github.io', 'Male', '121.180.48.101', 'Xinzha'], ['989', 'Care', 'Gladdis', 'cgladdisrg@hp.com', 'Male', '121.8.176.32', 'Leles'], ['990', 'Gerrie', 'Nilles', 'gnillesrh@usgs.gov', 'Female', '157.132.4.185', 'Sherwood Park'], ['991', 'Bat', 'Tomczynski', 'btomczynskiri@toplist.cz', 'Male', '138.39.70.190', '‘Arīqah'], ['992', 'Bernelle', 'Sheavills', 'bsheavillsrj@biblegateway.com', 'Female', '149.217.194.24', 'Thanatpin'], ['993', 'Alvera', 'Marvelley', 'amarvelleyrk@miibeian.gov.cn', 'Female', '8.87.243.103', 'Kleszczewo'], ['994', 'Lothaire', 'Luxford', 'lluxfordrl@redcross.org', 'Male', '65.32.26.102', 'Si Racha'], ['995', 'Glynn', 'Wakerley', 'gwakerleyrm@disqus.com', 'Male', '10.67.24.104', 'Rennes'], ['996', 'Parrnell', 'Jeff', 'pjeffrn@4shared.com', 'Male', '159.55.55.39', 'Dengok'], ['997', 'Pat', 'Warstall', 'pwarstallro@dropbox.com', 'Male', '169.200.7.131', 'Rosário do Sul'], ['998', 'Willyt', 'Vannuccini', 'wvannuccinirp@tuttocitta.it', 'Female', '156.149.18.155', 'Xiaopingba'], ['999', 'Gaelan', 'Petrashkov', 'gpetrashkovrq@hostgator.com', 'Male', '219.109.169.75', 'Bethlehem'], ['1000', 'Stirling', 'Francesc', 'sfrancescrr@cyberchimps.com', 'Male', '108.193.9.206', 'Potok Złoty']]\n"
     ]
    }
   ],
   "source": [
    "print(data_lines)"
   ]
  },
  {
   "cell_type": "code",
   "execution_count": 11,
   "metadata": {},
   "outputs": [
    {
     "output_type": "execute_result",
     "data": {
      "text/plain": [
       "['id', 'first_name', 'last_name', 'email', 'gender', 'ip_address', 'city']"
      ]
     },
     "metadata": {},
     "execution_count": 11
    }
   ],
   "source": [
    "data_lines[0]"
   ]
  },
  {
   "cell_type": "code",
   "execution_count": 12,
   "metadata": {},
   "outputs": [
    {
     "output_type": "execute_result",
     "data": {
      "text/plain": [
       "['1',\n",
       " 'Joseph',\n",
       " 'Zaniolini',\n",
       " 'jzaniolini0@simplemachines.org',\n",
       " 'Male',\n",
       " '163.168.68.132',\n",
       " 'Pedro Leopoldo']"
      ]
     },
     "metadata": {},
     "execution_count": 12
    }
   ],
   "source": [
    "data_lines[1]"
   ]
  },
  {
   "cell_type": "code",
   "execution_count": 13,
   "metadata": {},
   "outputs": [
    {
     "output_type": "execute_result",
     "data": {
      "text/plain": [
       "1001"
      ]
     },
     "metadata": {},
     "execution_count": 13
    }
   ],
   "source": [
    "len(data_lines)"
   ]
  },
  {
   "cell_type": "code",
   "execution_count": 14,
   "metadata": {},
   "outputs": [
    {
     "output_type": "stream",
     "name": "stdout",
     "text": [
      "['id', 'first_name', 'last_name', 'email', 'gender', 'ip_address', 'city']\n['1', 'Joseph', 'Zaniolini', 'jzaniolini0@simplemachines.org', 'Male', '163.168.68.132', 'Pedro Leopoldo']\n['2', 'Freida', 'Drillingcourt', 'fdrillingcourt1@umich.edu', 'Female', '97.212.102.79', 'Buri']\n['3', 'Nanni', 'Herity', 'nherity2@statcounter.com', 'Female', '145.151.178.98', 'Claver']\n['4', 'Orazio', 'Frayling', 'ofrayling3@economist.com', 'Male', '25.199.143.143', 'Kungur']\n"
     ]
    }
   ],
   "source": [
    "for line in data_lines[:5]:\n",
    "    print(line)"
   ]
  },
  {
   "cell_type": "code",
   "execution_count": 17,
   "metadata": {},
   "outputs": [
    {
     "output_type": "execute_result",
     "data": {
      "text/plain": [
       "['10',\n",
       " 'Hyatt',\n",
       " 'Gasquoine',\n",
       " 'hgasquoine9@google.ru',\n",
       " 'Male',\n",
       " '221.155.106.39',\n",
       " 'Złoty Stok']"
      ]
     },
     "metadata": {},
     "execution_count": 17
    }
   ],
   "source": [
    "data_lines[10]"
   ]
  },
  {
   "cell_type": "code",
   "execution_count": 18,
   "metadata": {},
   "outputs": [
    {
     "output_type": "execute_result",
     "data": {
      "text/plain": [
       "'hgasquoine9@google.ru'"
      ]
     },
     "metadata": {},
     "execution_count": 18
    }
   ],
   "source": [
    "data_lines[10][3]"
   ]
  },
  {
   "cell_type": "code",
   "execution_count": 19,
   "metadata": {},
   "outputs": [],
   "source": [
    "all_emails = []"
   ]
  },
  {
   "cell_type": "code",
   "execution_count": 20,
   "metadata": {},
   "outputs": [],
   "source": [
    "for line in data_lines[1:15]:\n",
    "    all_emails.append(line[3])"
   ]
  },
  {
   "cell_type": "code",
   "execution_count": 21,
   "metadata": {},
   "outputs": [
    {
     "output_type": "execute_result",
     "data": {
      "text/plain": [
       "['jzaniolini0@simplemachines.org',\n",
       " 'fdrillingcourt1@umich.edu',\n",
       " 'nherity2@statcounter.com',\n",
       " 'ofrayling3@economist.com',\n",
       " 'jmurrison4@cbslocal.com',\n",
       " 'lgamet5@list-manage.com',\n",
       " 'dhowatt6@amazon.com',\n",
       " 'kherion7@amazon.com',\n",
       " 'chedworth8@china.com.cn',\n",
       " 'hgasquoine9@google.ru',\n",
       " 'ftarra@shareasale.com',\n",
       " 'abathb@umn.edu',\n",
       " 'lchastangc@goo.gl',\n",
       " 'cceried@yale.edu']"
      ]
     },
     "metadata": {},
     "execution_count": 21
    }
   ],
   "source": [
    "all_emails"
   ]
  },
  {
   "cell_type": "code",
   "execution_count": 22,
   "metadata": {},
   "outputs": [
    {
     "output_type": "execute_result",
     "data": {
      "text/plain": [
       "['10',\n",
       " 'Hyatt',\n",
       " 'Gasquoine',\n",
       " 'hgasquoine9@google.ru',\n",
       " 'Male',\n",
       " '221.155.106.39',\n",
       " 'Złoty Stok']"
      ]
     },
     "metadata": {},
     "execution_count": 22
    }
   ],
   "source": [
    "data_lines[10]"
   ]
  },
  {
   "cell_type": "code",
   "execution_count": 28,
   "metadata": {},
   "outputs": [],
   "source": [
    "full_names = []"
   ]
  },
  {
   "cell_type": "code",
   "execution_count": 29,
   "metadata": {},
   "outputs": [],
   "source": [
    "for line in data_lines[1:20]:\n",
    "    full_names.append(line[1]+' '+line[2])"
   ]
  },
  {
   "cell_type": "code",
   "execution_count": 30,
   "metadata": {},
   "outputs": [
    {
     "output_type": "execute_result",
     "data": {
      "text/plain": [
       "['Joseph Zaniolini',\n",
       " 'Freida Drillingcourt',\n",
       " 'Nanni Herity',\n",
       " 'Orazio Frayling',\n",
       " 'Julianne Murrison',\n",
       " 'Lucy Gamet',\n",
       " 'Dyana Howatt',\n",
       " 'Kassey Herion',\n",
       " 'Chrissy Hedworth',\n",
       " 'Hyatt Gasquoine',\n",
       " 'Felicdad Tarr',\n",
       " 'Andrew Bath',\n",
       " 'Lucais Chastang',\n",
       " 'Car Cerie',\n",
       " 'Alvera Jepp',\n",
       " 'Prescott Caldeiro',\n",
       " 'Nariko Clunie',\n",
       " 'Kalvin Rois',\n",
       " 'Isa Boycott']"
      ]
     },
     "metadata": {},
     "execution_count": 30
    }
   ],
   "source": [
    "full_names"
   ]
  },
  {
   "cell_type": "code",
   "execution_count": 31,
   "metadata": {},
   "outputs": [],
   "source": [
    "file_to_output = open('to_save_file_1.csv', mode='w', newline='')"
   ]
  },
  {
   "cell_type": "code",
   "execution_count": 32,
   "metadata": {},
   "outputs": [],
   "source": [
    "csv_writer = csv.writer(file_to_output, delimiter=',')"
   ]
  },
  {
   "cell_type": "code",
   "execution_count": 33,
   "metadata": {},
   "outputs": [
    {
     "output_type": "execute_result",
     "data": {
      "text/plain": [
       "7"
      ]
     },
     "metadata": {},
     "execution_count": 33
    }
   ],
   "source": [
    "csv_writer.writerow(['a', 'b', 'c'])"
   ]
  },
  {
   "cell_type": "code",
   "execution_count": 34,
   "metadata": {},
   "outputs": [],
   "source": [
    "csv_writer.writerows([['1', '2', '3'], ['4', '5', '6']])"
   ]
  },
  {
   "cell_type": "code",
   "execution_count": 35,
   "metadata": {},
   "outputs": [],
   "source": [
    "file_to_output.close()"
   ]
  },
  {
   "cell_type": "code",
   "execution_count": 36,
   "metadata": {},
   "outputs": [],
   "source": [
    "f = open('to_save_file_1.csv', mode='a', newline='')"
   ]
  },
  {
   "cell_type": "code",
   "execution_count": 38,
   "metadata": {},
   "outputs": [],
   "source": [
    "csv_writer = csv.writer(f)"
   ]
  },
  {
   "cell_type": "code",
   "execution_count": 39,
   "metadata": {},
   "outputs": [
    {
     "output_type": "execute_result",
     "data": {
      "text/plain": [
       "7"
      ]
     },
     "metadata": {},
     "execution_count": 39
    }
   ],
   "source": [
    "csv_writer.writerow(['1', '2', '3'])"
   ]
  },
  {
   "cell_type": "code",
   "execution_count": 40,
   "metadata": {},
   "outputs": [],
   "source": [
    "f.close()"
   ]
  },
  {
   "cell_type": "code",
   "execution_count": null,
   "metadata": {},
   "outputs": [],
   "source": []
  }
 ]
}