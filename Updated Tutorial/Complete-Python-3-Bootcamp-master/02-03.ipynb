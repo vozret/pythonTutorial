{
 "nbformat": 4,
 "nbformat_minor": 2,
 "metadata": {
  "language_info": {
   "name": "python",
   "codemirror_mode": {
    "name": "ipython",
    "version": 3
   },
   "version": "3.7.1-final"
  },
  "orig_nbformat": 2,
  "file_extension": ".py",
  "mimetype": "text/x-python",
  "name": "python",
  "npconvert_exporter": "python",
  "pygments_lexer": "ipython3",
  "version": 3,
  "kernelspec": {
   "name": "python3",
   "display_name": "Python 3"
  }
 },
 "cells": [
  {
   "cell_type": "code",
   "execution_count": 2,
   "metadata": {},
   "outputs": [
    {
     "name": "stdout",
     "output_type": "stream",
     "text": "hello\nhello\nhello\nhello\nhello\nhello\nhello\nhello\nhello\nhello\n"
    }
   ],
   "source": [
    "myList = [1,2,3,4,5,6,7,8,9,10]\n",
    "\n",
    "for num in myList:\n",
    "    print('hello')"
   ]
  },
  {
   "cell_type": "code",
   "execution_count": 3,
   "metadata": {},
   "outputs": [
    {
     "name": "stdout",
     "output_type": "stream",
     "text": "2\n4\n6\n8\n10\n"
    }
   ],
   "source": [
    "for num in myList:\n",
    "    if(num % 2 == 0):\n",
    "        print(num)"
   ]
  },
  {
   "cell_type": "code",
   "execution_count": 6,
   "metadata": {},
   "outputs": [
    {
     "ename": "SyntaxError",
     "evalue": "invalid syntax (<ipython-input-6-ca123859b5cd>, line 2)",
     "output_type": "error",
     "traceback": [
      "\u001b[0;36m  File \u001b[0;32m\"<ipython-input-6-ca123859b5cd>\"\u001b[0;36m, line \u001b[0;32m2\u001b[0m\n\u001b[0;31m    if !(num % 2):\u001b[0m\n\u001b[0m       ^\u001b[0m\n\u001b[0;31mSyntaxError\u001b[0m\u001b[0;31m:\u001b[0m invalid syntax\n"
     ]
    }
   ],
   "source": [
    "for num in myList:\n",
    "    if !(num % 2):\n",
    "        print(num)"
   ]
  },
  {
   "cell_type": "code",
   "execution_count": 7,
   "metadata": {},
   "outputs": [
    {
     "name": "stdout",
     "output_type": "stream",
     "text": "odd\n2\nodd\n4\nodd\n6\nodd\n8\nodd\n10\n"
    }
   ],
   "source": [
    "for num in myList:\n",
    "    if(num % 2 == 0):\n",
    "        print(num)\n",
    "    else:\n",
    "        print('odd')"
   ]
  },
  {
   "cell_type": "code",
   "execution_count": 10,
   "metadata": {},
   "outputs": [
    {
     "name": "stdout",
     "output_type": "stream",
     "text": "1\n3\n6\n10\n15\n21\n28\n36\n45\n55\n\n55\n"
    }
   ],
   "source": [
    "list_sum = 0\n",
    "\n",
    "for num in myList:\n",
    "    list_sum += num\n",
    "    print(list_sum)\n",
    "\n",
    "print(f'\\n{list_sum}')"
   ]
  },
  {
   "cell_type": "code",
   "execution_count": 11,
   "metadata": {},
   "outputs": [
    {
     "name": "stdout",
     "output_type": "stream",
     "text": "H\ne\nl\nl\no\n \nW\no\nr\nl\nd\n"
    }
   ],
   "source": [
    "for letter in 'Hello World':\n",
    "    print(letter)"
   ]
  },
  {
   "cell_type": "code",
   "execution_count": 12,
   "metadata": {},
   "outputs": [
    {
     "name": "stdout",
     "output_type": "stream",
     "text": "Cool\nCool\nCool\nCool\nCool\nCool\nCool\nCool\nCool\nCool\nCool\n"
    }
   ],
   "source": [
    "for _ in 'Hello World':\n",
    "    print('Cool')"
   ]
  },
  {
   "cell_type": "code",
   "execution_count": 13,
   "metadata": {},
   "outputs": [
    {
     "name": "stdout",
     "output_type": "stream",
     "text": "1\n2\n3\n"
    }
   ],
   "source": [
    "tup = (1,2,3)\n",
    "\n",
    "for item in tup:\n",
    "    print(item)"
   ]
  },
  {
   "cell_type": "code",
   "execution_count": 14,
   "metadata": {},
   "outputs": [
    {
     "data": {
      "text/plain": "4"
     },
     "execution_count": 14,
     "metadata": {},
     "output_type": "execute_result"
    }
   ],
   "source": [
    "mylist = [(1,2),(3,4),(5,6),(7,8)]\n",
    "\n",
    "len(mylist)"
   ]
  },
  {
   "cell_type": "code",
   "execution_count": 15,
   "metadata": {},
   "outputs": [
    {
     "name": "stdout",
     "output_type": "stream",
     "text": "(1, 2)\n(3, 4)\n(5, 6)\n(7, 8)\n"
    }
   ],
   "source": [
    "for item in mylist:\n",
    "    print(item)"
   ]
  },
  {
   "cell_type": "code",
   "execution_count": 17,
   "metadata": {},
   "outputs": [
    {
     "name": "stdout",
     "output_type": "stream",
     "text": "1\n2\n3\n4\n5\n6\n7\n8\n"
    }
   ],
   "source": [
    "for (a, b) in mylist:\n",
    "    print(a)\n",
    "    print(b)"
   ]
  },
  {
   "cell_type": "code",
   "execution_count": 18,
   "metadata": {},
   "outputs": [
    {
     "name": "stdout",
     "output_type": "stream",
     "text": "2\n5\n8\n"
    }
   ],
   "source": [
    "mylist = [(1,2,3),(4,5,6),(7,8,9)]\n",
    "\n",
    "for (a,b,c) in mylist:\n",
    "    print(b)"
   ]
  },
  {
   "cell_type": "code",
   "execution_count": 19,
   "metadata": {},
   "outputs": [
    {
     "name": "stdout",
     "output_type": "stream",
     "text": "k1\nk2\nk3\n"
    }
   ],
   "source": [
    "dictionary = {'k1':1, 'k2':2, 'k3':3}\n",
    "\n",
    "for item in dictionary:\n",
    "    print(item)"
   ]
  },
  {
   "cell_type": "code",
   "execution_count": 20,
   "metadata": {},
   "outputs": [
    {
     "name": "stdout",
     "output_type": "stream",
     "text": "('k1', 1)\n('k2', 2)\n('k3', 3)\n"
    }
   ],
   "source": [
    "dictionary = {'k1':1, 'k2':2, 'k3':3}\n",
    "\n",
    "for item in dictionary.items():\n",
    "    print(item)"
   ]
  },
  {
   "cell_type": "code",
   "execution_count": 21,
   "metadata": {},
   "outputs": [
    {
     "name": "stdout",
     "output_type": "stream",
     "text": "1\n2\n3\n"
    }
   ],
   "source": [
    "dictionary = {'k1':1, 'k2':2, 'k3':3}\n",
    "\n",
    "for item in dictionary.values():\n",
    "    print(item)"
   ]
  },
  {
   "cell_type": "code",
   "execution_count": 24,
   "metadata": {},
   "outputs": [
    {
     "name": "stdout",
     "output_type": "stream",
     "text": "1\n2\n3\n"
    }
   ],
   "source": [
    "dictionary = {'k1':1, 'k2':2, 'k3':3}\n",
    "\n",
    "for key, value in dictionary:\n",
    "    print(value)"
   ]
  },
  {
   "cell_type": "code",
   "execution_count": 26,
   "metadata": {},
   "outputs": [
    {
     "name": "stdout",
     "output_type": "stream",
     "text": "k1\nk2\nk3\n"
    }
   ],
   "source": [
    "dictionary = {'k1':1, 'k2':2, 'k3':3}\n",
    "\n",
    "for item in dictionary.keys():\n",
    "    print(item)"
   ]
  },
  {
   "cell_type": "code",
   "execution_count": null,
   "metadata": {},
   "outputs": [],
   "source": []
  }
 ]
}