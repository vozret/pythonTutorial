{
 "nbformat": 4,
 "nbformat_minor": 2,
 "metadata": {
  "language_info": {
   "name": "python",
   "codemirror_mode": {
    "name": "ipython",
    "version": 3
   },
   "version": "3.7.1-final"
  },
  "orig_nbformat": 2,
  "file_extension": ".py",
  "mimetype": "text/x-python",
  "name": "python",
  "npconvert_exporter": "python",
  "pygments_lexer": "ipython3",
  "version": 3,
  "kernelspec": {
   "name": "python3",
   "display_name": "Python 3"
  }
 },
 "cells": [
  {
   "cell_type": "code",
   "execution_count": 7,
   "metadata": {},
   "outputs": [
    {
     "name": "stdout",
     "output_type": "stream",
     "text": "Your number: 12\nCOLD!\nYour number: 23\nWARMER!\nYour number: 22\nCOLDER!\nYour number: 24\nWARMER!\nYour number: 25\nWARMER!\nYour number: 26\nWARMER!\nYour number: 27\nWARMER!\nYour number: 45\nWARMER!\nYour number: 56\nWARMER!\nYour number: 67\nWARMER!\nYour number: 78\nWARMER!\nYour number: 889\nOUT OF BOUNDS!\nWARMER!\nYour number: 78\nCOLDER!\nYour number: 87\nWARMER!\nYour number: 86\nCOLDER!\nYour number: 88\nWARMER!\nYour number: 89\nWARMER!\nYour number: 90\nWARMER!\nYour number: 91\nWARMER!\nYour number: 92\nWARMER!\nYour number: 93\nWARMER!\nYour number: 94\nWARMER!\nYour number: 95\nWARMER!\nYour number: 96\nWARMER!\nYour number: 97\nCONGRATULATIONS! YOU GUESSED! IT TOOK YOU 25 GUESSES\n"
    }
   ],
   "source": [
    "from random import randint\n",
    "\n",
    "solution = randint(1,100)\n",
    "guess: int\n",
    "oldGuess: int\n",
    "numberOfGuesses = 0\n",
    "firstTry: bool = True\n",
    "\n",
    "guess = int(input('Enter your guess here: '))\n",
    "print(f'Your number: {guess}')\n",
    "\n",
    "while (guess != solution):\n",
    "\n",
    "\n",
    "    #checking if the guess is inside the bounds, valind only if the user enters int\n",
    "    while (guess < 1 or guess > 100):\n",
    "        print('OUT OF BOUNDS!')\n",
    "        guess = int(input('Guess again: '))\n",
    "        numberOfGuesses += 1\n",
    "\n",
    "    if (firstTry):\n",
    "        #checking if the guess is within the 10 of the solution\n",
    "        #cheking only once, later it goes to 'warmer' and 'colder\n",
    "        if (abs(guess - solution) < 10):\n",
    "            print('WARM!')\n",
    "        else:\n",
    "            print('COLD!')\n",
    "\n",
    "    else:\n",
    "        if (abs(guess - solution) < abs(oldGuess - solution)):\n",
    "            print('WARMER!')\n",
    "        else:\n",
    "            print('COLDER!')\n",
    "\n",
    "    oldGuess = guess\n",
    "    guess = int(input('Guess again: '))\n",
    "    print(f'Your number: {guess}')\n",
    "    numberOfGuesses += 1\n",
    "    firstTry = False\n",
    "\n",
    "print(f'CONGRATULATIONS! YOU GUESSED! IT TOOK YOU {numberOfGuesses} GUESSES')"
   ]
  },
  {
   "cell_type": "code",
   "execution_count": null,
   "metadata": {},
   "outputs": [],
   "source": []
  }
 ]
}