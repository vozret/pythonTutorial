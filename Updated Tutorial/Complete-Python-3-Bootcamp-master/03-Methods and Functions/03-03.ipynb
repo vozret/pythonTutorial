{
 "nbformat": 4,
 "nbformat_minor": 2,
 "metadata": {
  "language_info": {
   "name": "python",
   "codemirror_mode": {
    "name": "ipython",
    "version": 3
   },
   "version": "3.7.1-final"
  },
  "orig_nbformat": 2,
  "file_extension": ".py",
  "mimetype": "text/x-python",
  "name": "python",
  "npconvert_exporter": "python",
  "pygments_lexer": "ipython3",
  "version": 3,
  "kernelspec": {
   "name": "python3",
   "display_name": "Python 3"
  }
 },
 "cells": [
  {
   "cell_type": "code",
   "execution_count": 1,
   "metadata": {},
   "outputs": [
    {
     "data": {
      "text/plain": "5.0"
     },
     "execution_count": 1,
     "metadata": {},
     "output_type": "execute_result"
    }
   ],
   "source": [
    "def myFunc(a, b):\n",
    "    # returns 5% of the sum of a and b\n",
    "    return sum((a, b)) * 0.05\n",
    "\n",
    "myFunc(40,60)"
   ]
  },
  {
   "cell_type": "code",
   "execution_count": 5,
   "metadata": {},
   "outputs": [
    {
     "name": "stdout",
     "output_type": "stream",
     "text": "(40, 60, 100, 100)\n"
    },
    {
     "data": {
      "text/plain": "15.0"
     },
     "execution_count": 5,
     "metadata": {},
     "output_type": "execute_result"
    }
   ],
   "source": [
    "#args is an arbitrary word, * is the essential\n",
    "def myFunc(*args):\n",
    "    # returns 5% of the sum of a and b\n",
    "    print (args)\n",
    "    return sum(args) * 0.05\n",
    "\n",
    "myFunc(40,60, 100, 100)"
   ]
  },
  {
   "cell_type": "code",
   "execution_count": 6,
   "metadata": {},
   "outputs": [
    {
     "name": "stdout",
     "output_type": "stream",
     "text": "{'fruit': 'apple', 'veggie': 'lettuce'}\nfruit: apple\n"
    }
   ],
   "source": [
    "#kwargs -> keyword arguments\n",
    "#building dictionary\n",
    "\n",
    "def myFun(**kwargs):\n",
    "    print(kwargs)\n",
    "    if ('fruit' in kwargs):\n",
    "        print('fruit: {}'.format(kwargs['fruit']))\n",
    "    else:\n",
    "        print('no fruit')\n",
    "\n",
    "myFun(fruit = 'apple', veggie = 'lettuce')"
   ]
  },
  {
   "cell_type": "code",
   "execution_count": 8,
   "metadata": {},
   "outputs": [
    {
     "name": "stdout",
     "output_type": "stream",
     "text": "(10, 20, 30)\n{'fruit': 'apple', 'animal': 'dog', 'food': 'eggs'}\nargs: 10, kwargs: eggs\n"
    }
   ],
   "source": [
    "def myfunc(*args, **kwargs):\n",
    "    print(args)\n",
    "    print(kwargs)\n",
    "    print('args: {}, kwargs: {}'.format(args[0], kwargs['food']))\n",
    "\n",
    "myfunc(10, 20, 30, fruit = 'apple', animal = 'dog', food = 'eggs')"
   ]
  },
  {
   "cell_type": "code",
   "execution_count": null,
   "metadata": {},
   "outputs": [],
   "source": []
  }
 ]
}