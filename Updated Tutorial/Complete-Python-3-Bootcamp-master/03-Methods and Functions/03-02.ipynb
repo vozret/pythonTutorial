{
 "nbformat": 4,
 "nbformat_minor": 2,
 "metadata": {
  "language_info": {
   "name": "python",
   "codemirror_mode": {
    "name": "ipython",
    "version": 3
   },
   "version": "3.7.1-final"
  },
  "orig_nbformat": 2,
  "file_extension": ".py",
  "mimetype": "text/x-python",
  "name": "python",
  "npconvert_exporter": "python",
  "pygments_lexer": "ipython3",
  "version": 3,
  "kernelspec": {
   "name": "python3",
   "display_name": "Python 3"
  }
 },
 "cells": [
  {
   "cell_type": "code",
   "execution_count": 2,
   "metadata": {},
   "outputs": [
    {
     "name": "stdout",
     "output_type": "stream",
     "text": "Hello World\nHelp on function nameFunction in module __main__:\n\nnameFunction()\n    DOCSTRING: information\n\n"
    }
   ],
   "source": [
    "def nameFunction():\n",
    "    '''\n",
    "    DOCSTRING: information\n",
    "    '''\n",
    "    print('Hello World')\n",
    "\n",
    "nameFunction()\n",
    "help(nameFunction)"
   ]
  },
  {
   "cell_type": "code",
   "execution_count": 5,
   "metadata": {},
   "outputs": [
    {
     "name": "stdout",
     "output_type": "stream",
     "text": "Hello Sammy\nHello DEFAULT NAME\n"
    }
   ],
   "source": [
    "def sayHello(name = 'DEFAULT NAME'):\n",
    "    print(f'Hello {name}')\n",
    "\n",
    "sayHello('Sammy')\n",
    "sayHello()"
   ]
  },
  {
   "cell_type": "code",
   "execution_count": 6,
   "metadata": {},
   "outputs": [],
   "source": [
    "def sayHello(name = 'DEFAULT NAME'):\n",
    "    return f'Hello {name}'\n",
    "\n",
    "result = sayHello('Sammy')"
   ]
  },
  {
   "cell_type": "code",
   "execution_count": 7,
   "metadata": {},
   "outputs": [
    {
     "data": {
      "text/plain": "'Hello Sammy'"
     },
     "execution_count": 7,
     "metadata": {},
     "output_type": "execute_result"
    }
   ],
   "source": [
    "result"
   ]
  },
  {
   "cell_type": "code",
   "execution_count": 8,
   "metadata": {},
   "outputs": [
    {
     "data": {
      "text/plain": "50"
     },
     "execution_count": 8,
     "metadata": {},
     "output_type": "execute_result"
    }
   ],
   "source": [
    "def add(n1, n2):\n",
    "    return n1+n2\n",
    "\n",
    "result = add(20,30)\n",
    "result"
   ]
  },
  {
   "cell_type": "code",
   "execution_count": 10,
   "metadata": {},
   "outputs": [
    {
     "data": {
      "text/plain": "True"
     },
     "execution_count": 10,
     "metadata": {},
     "output_type": "execute_result"
    }
   ],
   "source": [
    "def dogCheck(myString):\n",
    "\n",
    "    #already a boolean:\n",
    "    #no need of if, else\n",
    "    return 'dog' in myString.lower()\n",
    "\n",
    "dogCheck('Dog ran away')"
   ]
  },
  {
   "cell_type": "code",
   "execution_count": 11,
   "metadata": {},
   "outputs": [
    {
     "name": "stdout",
     "output_type": "stream",
     "text": "appleay\n"
    },
    {
     "data": {
      "text/plain": "'ordway'"
     },
     "execution_count": 11,
     "metadata": {},
     "output_type": "execute_result"
    }
   ],
   "source": [
    "def pigLatin(word):\n",
    "    firstLetter = word[0]\n",
    "\n",
    "    if (firstLetter in 'aeiou'):\n",
    "        return word + 'ay'\n",
    "    else:\n",
    "        return word[1:] + firstLetter + 'ay'\n",
    "\n",
    "print(pigLatin('apple'))\n",
    "pigLatin(('word'))"
   ]
  },
  {
   "cell_type": "code",
   "execution_count": null,
   "metadata": {},
   "outputs": [],
   "source": []
  }
 ]
}