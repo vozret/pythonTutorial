{
 "cells": [
  {
   "cell_type": "markdown",
   "metadata": {},
   "source": [
    "# Milestone Project 1: Walkthrough Steps Workbook\n",
    "\n",
    "Below is a set of steps for you to follow to try to create the Tic Tac Toe Milestone Project game!"
   ]
  },
  {
   "cell_type": "markdown",
   "metadata": {},
   "source": [
    "#### Some suggested tools before you get started:\n",
    "To take input from a user:\n",
    "\n",
    "    player1 = input(\"Please pick a marker 'X' or 'O'\")\n",
    "    \n",
    "Note that input() takes in a string. If you need an integer value, use\n",
    "\n",
    "    position = int(input('Please enter a number'))\n",
    "    \n",
    "<br>To clear the screen between moves:\n",
    "\n",
    "    from IPython.display import clear_output\n",
    "    clear_output()\n",
    "    \n",
    "Note that clear_output() will only work in jupyter. To clear the screen in other IDEs, consider:\n",
    "\n",
    "    print('\\n'*100)\n",
    "    \n",
    "This scrolls the previous board up out of view. Now on to the program!"
   ]
  },
  {
   "cell_type": "markdown",
   "metadata": {},
   "source": [
    "**Step 1: Write a function that can print out a board. Set up your board as a list, where each index 1-9 corresponds with a number on a number pad, so you get a 3 by 3 board representation.**"
   ]
  },
  {
   "cell_type": "code",
   "execution_count": 43,
   "metadata": {},
   "outputs": [],
   "source": [
    "from IPython.display import clear_output\n",
    "\n",
    "def display_board(board = ['0','1','2','3','4','5','6','7','8','9']):\n",
    "    \n",
    "    print(\"\\n\")\n",
    "    print(f'{board[1]}|{board[2]}|{board[3]}')\n",
    "    print('______')\n",
    "    print(f'{board[4]}|{board[5]}|{board[6]}')\n",
    "    print('______')\n",
    "    print(f'{board[7]}|{board[8]}|{board[9]}')\n",
    "    print(\"\\n\")"
   ]
  },
  {
   "cell_type": "markdown",
   "metadata": {},
   "source": [
    "**TEST Step 1:** run your function on a test version of the board list, and make adjustments as necessary"
   ]
  },
  {
   "cell_type": "code",
   "execution_count": 44,
   "metadata": {
    "tags": []
   },
   "outputs": [
    {
     "output_type": "stream",
     "name": "stdout",
     "text": "\n\nX|2|3\n______\nO|X|O\n______\nX|O|X\n\n\n"
    }
   ],
   "source": [
    "test_board = ['#','X','2','3','O','X','O','X','O','X']\n",
    "display_board(test_board)"
   ]
  },
  {
   "cell_type": "markdown",
   "metadata": {},
   "source": [
    "**Step 2: Write a function that can take in a player input and assign their marker as 'X' or 'O'. Think about using *while* loops to continually ask until you get a correct answer.**"
   ]
  },
  {
   "cell_type": "code",
   "execution_count": 45,
   "metadata": {},
   "outputs": [],
   "source": [
    "def player_input():\n",
    "    user1 = \"N\"\n",
    "    while (user1.upper() != 'X' and user1.upper() != 'O'):\n",
    "        user1 = input(\"Please, choose 'X' or 'O': \")\n",
    "        print(f'your choice is {user1.upper()}')\n",
    "    return user1"
   ]
  },
  {
   "cell_type": "markdown",
   "metadata": {},
   "source": [
    "**TEST Step 2:** run the function to make sure it returns the desired output"
   ]
  },
  {
   "cell_type": "code",
   "execution_count": 41,
   "metadata": {
    "tags": []
   },
   "outputs": [
    {
     "output_type": "stream",
     "name": "stdout",
     "text": "your choice is X\n"
    },
    {
     "output_type": "execute_result",
     "data": {
      "text/plain": "'x'"
     },
     "metadata": {},
     "execution_count": 41
    }
   ],
   "source": [
    "player_input()"
   ]
  },
  {
   "cell_type": "markdown",
   "metadata": {},
   "source": [
    "**Step 3: Write a function that takes in the board list object, a marker ('X' or 'O'), and a desired position (number 1-9) and assigns it to the board.**"
   ]
  },
  {
   "cell_type": "code",
   "execution_count": 46,
   "metadata": {},
   "outputs": [],
   "source": [
    "def place_marker(board, marker, position):\n",
    "     if (board[position].upper() == 'X' or board[position].upper() == 'O'):\n",
    "        print(f'Position {position} is laready taken.\\nPlease, choose another position.')\n",
    "\n",
    "     else :\n",
    "         board[position] = marker"
   ]
  },
  {
   "cell_type": "markdown",
   "metadata": {},
   "source": [
    "**TEST Step 3:** run the place marker function using test parameters and display the modified board"
   ]
  },
  {
   "cell_type": "code",
   "execution_count": 47,
   "metadata": {
    "tags": []
   },
   "outputs": [
    {
     "output_type": "stream",
     "name": "stdout",
     "text": "\n\nX|$|3\n______\nO|X|O\n______\nX|O|X\n\n\n"
    }
   ],
   "source": [
    "place_marker(test_board,'$',2)\n",
    "display_board(test_board)"
   ]
  },
  {
   "cell_type": "markdown",
   "metadata": {},
   "source": [
    "**Step 4: Write a function that takes in a board and a mark (X or O) and then checks to see if that mark has won. **"
   ]
  },
  {
   "cell_type": "code",
   "execution_count": 48,
   "metadata": {},
   "outputs": [],
   "source": [
    "def win_check(board, mark):\n",
    "    flag: bool = False\n",
    "\n",
    "    if (board[1] == mark and board[2] == mark and board[3] == mark):\n",
    "        flag = True\n",
    "    elif (board[4] == mark and board[5] == mark and board[6] == mark):\n",
    "        flag = True\n",
    "    elif (board[7] == mark and board[8] == mark and board[9] == mark):\n",
    "        flag = True\n",
    "    elif (board[1] == mark and board[5] == mark and board[9] == mark):\n",
    "        flag = True\n",
    "    elif (board[3] == mark and board[5] == mark and board[7] == mark):\n",
    "        flag = True\n",
    "    elif (board[1] == mark and board[4] == mark and board[7] == mark):\n",
    "        flag = True \n",
    "    elif (board[2] == mark and board[5] == mark and board[8] == mark):\n",
    "        flag = True\n",
    "    elif (board[3] == mark and board[6] == mark and board[9] == mark):\n",
    "        flag = True\n",
    "    else:\n",
    "        pass\n",
    "    \n",
    "    return flag"
   ]
  },
  {
   "cell_type": "markdown",
   "metadata": {},
   "source": [
    "**TEST Step 4:** run the win_check function against our test_board - it should return True"
   ]
  },
  {
   "cell_type": "code",
   "execution_count": 36,
   "metadata": {},
   "outputs": [
    {
     "output_type": "execute_result",
     "data": {
      "text/plain": "False"
     },
     "metadata": {},
     "execution_count": 36
    }
   ],
   "source": [
    "win_check(test_board,'O')"
   ]
  },
  {
   "cell_type": "markdown",
   "metadata": {},
   "source": [
    "**Step 5: Write a function that uses the random module to randomly decide which player goes first. You may want to lookup random.randint() Return a string of which player went first.**"
   ]
  },
  {
   "cell_type": "code",
   "execution_count": 49,
   "metadata": {},
   "outputs": [],
   "source": [
    "import random\n",
    "\n",
    "def choose_first():\n",
    "    #if True, first to play is player1\n",
    "    return random.randint(1, 20)%2 == 0"
   ]
  },
  {
   "cell_type": "markdown",
   "metadata": {},
   "source": [
    "**Step 6: Write a function that returns a boolean indicating whether a space on the board is freely available.**"
   ]
  },
  {
   "cell_type": "code",
   "execution_count": null,
   "metadata": {},
   "outputs": [],
   "source": [
    "def space_check(board, position):\n",
    "    "
   ]
  },
  {
   "cell_type": "markdown",
   "metadata": {},
   "source": [
    "**Step 7: Write a function that checks if the board is full and returns a boolean value. True if full, False otherwise.**"
   ]
  },
  {
   "cell_type": "code",
   "execution_count": 54,
   "metadata": {},
   "outputs": [],
   "source": [
    "def full_board_check(board):\n",
    "    for position in range(1, len(board)):\n",
    "        if(board[position].upper() != \"X\" and board[position].upper() != \"O\"):\n",
    "            return False\n",
    "    return True"
   ]
  },
  {
   "cell_type": "markdown",
   "metadata": {},
   "source": [
    "**Step 8: Write a function that asks for a player's next position (as a number 1-9) and then uses the function from step 6 to check if it's a free position. If it is, then return the position for later use.**"
   ]
  },
  {
   "cell_type": "code",
   "execution_count": null,
   "metadata": {},
   "outputs": [],
   "source": [
    "def player_choice(board):\n",
    "    \n",
    "    pass"
   ]
  },
  {
   "cell_type": "markdown",
   "metadata": {},
   "source": [
    "**Step 9: Write a function that asks the player if they want to play again and returns a boolean True if they do want to play again.**"
   ]
  },
  {
   "cell_type": "code",
   "execution_count": 38,
   "metadata": {},
   "outputs": [],
   "source": [
    "def replay():\n",
    "    flag: bool = True\n",
    "    while flag:\n",
    "        choice = input('Do you want to play again, type Yes or No: ').lower()\n",
    "        if (choice == \"yes\" or choice == \"y\"):\n",
    "            flag = False\n",
    "            return True\n",
    "        elif(choice == \"no\" or choice == \"n\"):\n",
    "            flag = False\n",
    "            return False\n",
    "        else:\n",
    "            pass"
   ]
  },
  {
   "cell_type": "markdown",
   "metadata": {
    "collapsed": true
   },
   "source": [
    "**Step 10: Here comes the hard part! Use while loops and the functions you've made to run the game!**"
   ]
  },
  {
   "cell_type": "code",
   "execution_count": 55,
   "metadata": {
    "tags": []
   },
   "outputs": [
    {
     "output_type": "stream",
     "name": "stdout",
     "text": "Welcome to Tic Tac Toe!\n\n\n\n\n1|2|3\n______\n4|5|6\n______\n7|8|9\n\n\n\n\nyour choice is X\nPlayer 1 is x\nPlayer 2 is O\nFirst to play is Player 1\nPlayer 1: \n\n\nx|2|3\n______\n4|5|6\n______\n7|8|9\n\n\nPlayer 2: \n\n\nx|O|3\n______\n4|5|6\n______\n7|8|9\n\n\nPlayer 1: \n\n\nx|O|3\n______\n4|x|6\n______\n7|8|9\n\n\nPlayer 2: \n\n\nx|O|3\n______\n4|x|6\n______\n7|8|O\n\n\nPlayer 1: \n\n\nx|O|x\n______\n4|x|6\n______\n7|8|O\n\n\nPlayer 2: \n\n\nx|O|x\n______\n4|x|6\n______\nO|8|O\n\n\nPlayer 1: \n\n\nx|O|x\n______\n4|x|6\n______\nO|x|O\n\n\nPlayer 2: \n\n\nx|O|x\n______\nO|x|6\n______\nO|x|O\n\n\nPlayer 1: \nPosition 4 is laready taken.\nPlease, choose another position.\n\n\nx|O|x\n______\nO|x|6\n______\nO|x|O\n\n\nPlayer 2: \n\n\nx|O|x\n______\nO|x|O\n______\nO|x|O\n\n\nBoard is full, EVEN!\n\n\n\n\n\n\n\n\n\n\n\n\n\n\n\n\n\n\n\n\n\n\n\n\n\n\n\n\n\n\n\n\n\n\n\n\n\n\n\n\n\n\n\n\n\n\n\n\n\n\n\n\n\n\n\n\n\n\n\n\n\n\n\n\n\n\n\n\n\n\n\n\n\n\n\n\n\n\n\n\n\n\n\n\n\n\n\n\n\n\n\n\n\n\n\n\n\n\n\n\n\n"
    }
   ],
   "source": [
    "print('Welcome to Tic Tac Toe!')\n",
    "\n",
    "while True:\n",
    "    # Set the game up here\n",
    "    #pass\n",
    "    player1: str = \"\"\n",
    "    player2: str = \"\"\n",
    "    game_on: bool = True\n",
    "    board: str = ['0','1','2','3','4','5','6','7','8','9']\n",
    "    position: int = 0\n",
    "    firstToPlay: bool = True\n",
    "\n",
    "    print(\"\\n\")\n",
    "    display_board(board)\n",
    "    print(\"\\n\")\n",
    "\n",
    "    player1 = player_input()\n",
    "    if(player1.upper() == \"X\"):\n",
    "        player2 = \"O\"\n",
    "    else:\n",
    "        player2 = \"X\"\n",
    "    \n",
    "    print(f'Player 1 is {player1}')\n",
    "    print(f'Player 2 is {player2}')\n",
    "\n",
    "    if (choose_first()):\n",
    "        print('First to play is Player 1')\n",
    "    else:\n",
    "        print('First to play is Player 2')\n",
    "        firstToPlay = False\n",
    "\n",
    "    while game_on:\n",
    "        if firstToPlay:\n",
    "            #Player 1 Turn\n",
    "            print('Player 1: ')\n",
    "            position = int(input('Choose free space: '))\n",
    "            place_marker(board, player1, position)\n",
    "\n",
    "            display_board(board)\n",
    "\n",
    "            if win_check(board, player1):\n",
    "                print('Player 1 wins!')\n",
    "                break\n",
    "            elif (full_board_check(board)):\n",
    "                print('Board is full, EVEN!')\n",
    "                break\n",
    "            else:\n",
    "                pass\n",
    "        \n",
    "            # Player2's turn.\n",
    "            print('Player 2: ')\n",
    "            position = int(input('Choose free space: '))\n",
    "            place_marker(board, player2, position)\n",
    "\n",
    "            display_board(board)\n",
    "\n",
    "            if win_check(board, player2):\n",
    "                print('Player 2 wins!')\n",
    "                break\n",
    "            elif (full_board_check(board)):\n",
    "                print('Board is full, EVEN!')\n",
    "                break\n",
    "            else:\n",
    "                pass\n",
    "        \n",
    "        else:\n",
    "            # Player2's turn.\n",
    "            print('Player 2: ')\n",
    "            position = int(input('Choose free space: '))\n",
    "            place_marker(board, player2, position)\n",
    "\n",
    "            display_board(board)\n",
    "            \n",
    "            if win_check(board, player2):\n",
    "                print('Player 2 wins!')\n",
    "                break\n",
    "            elif (full_board_check(board)):\n",
    "                print('Board is full, EVEN!')\n",
    "                break\n",
    "            else:\n",
    "                pass\n",
    "\n",
    "            #Player 1 Turn\n",
    "            print('Player 1: ')\n",
    "            position = int(input('Choose free space: '))\n",
    "            place_marker(board, player1, position)\n",
    "\n",
    "            display_board(board)\n",
    "\n",
    "            if win_check(board, player1):\n",
    "                print('Player 1 wins!')\n",
    "                break\n",
    "            elif (full_board_check(board)):\n",
    "                print('Board is full, EVEN!')\n",
    "                break\n",
    "            else:\n",
    "                pass\n",
    "            \n",
    "            #pass\n",
    "    if not replay():\n",
    "        print('\\n'*100)\n",
    "        break"
   ]
  },
  {
   "cell_type": "markdown",
   "metadata": {
    "collapsed": true
   },
   "source": [
    "## Good Job!"
   ]
  }
 ],
 "metadata": {
  "kernelspec": {
   "display_name": "Python 3",
   "language": "python",
   "name": "python3"
  },
  "language_info": {
   "codemirror_mode": {
    "name": "ipython",
    "version": 3
   },
   "file_extension": ".py",
   "mimetype": "text/x-python",
   "name": "python",
   "nbconvert_exporter": "python",
   "pygments_lexer": "ipython3",
   "version": "3.7.1-final"
  }
 },
 "nbformat": 4,
 "nbformat_minor": 1
}